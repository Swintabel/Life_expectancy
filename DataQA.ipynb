{
 "cells": [
  {
   "cell_type": "markdown",
   "id": "ff33c91e-7728-4f63-b160-c887d9bf7334",
   "metadata": {},
   "source": [
    "# <center>  DATA QUALITY ASSESSMENT AND PROCESSING"
   ]
  },
  {
   "cell_type": "markdown",
   "id": "35b8e677-4902-4175-b80b-1442ba3ab6a2",
   "metadata": {},
   "source": [
    "## DATA PREPARATION\n",
    "There are various tools for preparing data for analysis. Here I make use of `pandas and numpy` libraries in python "
   ]
  },
  {
   "cell_type": "code",
   "execution_count": 1,
   "id": "dcffb67a-5aa7-410c-9d23-7e94c62cbfa0",
   "metadata": {},
   "outputs": [],
   "source": [
    "#read in needed libraries\n",
    "import pandas as pd\n",
    "import numpy as np\n",
    "import matplotlib.pyplot as plt\n",
    "import seaborn as sns\n",
    "from scipy.stats.mstats import winsorize"
   ]
  },
  {
   "cell_type": "markdown",
   "id": "74cb3ffb-2b8d-445e-9b7d-6bc1d8953f27",
   "metadata": {
    "tags": []
   },
   "source": [
    "**DATA INFORMATION TABLES**\n",
    "\n",
    "Data is mostly presented in tables. It is important to know the information carried in every level of the data for correct evaluations and interpretation.\n",
    "\n",
    "*The table below gives a description of the various variables in the dataset.** [[1]](#ref1)\n",
    "\n",
    "|Field|Description|\n",
    "|---:|:---|\n",
    "|Country|Country|\n",
    "|Year|Year|\n",
    "|Status|Developed or Developing status|\n",
    "|Life expectancy|Life Expectancy in age|\n",
    "|Adult Mortality|Adult Mortality Rates of both sexes (probability of dying between 15 and 60 years per 1000 population)|\n",
    "|infant deaths|Number of Infant Deaths per 1000 population|\n",
    "|Alcohol|Alcohol, recorded per capita (15+) consumption (in litres of pure alcohol)|\n",
    "|percentage expenditure|Expenditure on health as a percent of Gross Domestic Product per capita(%)|\n",
    "|Hepatitis B|Hepatitis B (HepB) immunization coverage among 1-year-olds (%)|\n",
    "|Measles|Measles - number of reported cases per 1000 population|\n",
    "|BMI|Average Body Mass Index of entire population|\n",
    "|under-five deaths|Number of under-five deaths per 1000 population|\n",
    "|Polio|Polio (Pol3) immunization coverage among 1-year-olds (%)|\n",
    "|Total expenditure|General government expenditure on health as a percent of total government expenditure (%)|\n",
    "|Diphtheria|Diphtheria tetanus toxoid and pertussis (DTP3) immunization coverage among 1-year-olds (%)|\n",
    "|HIV/AIDS|Deaths per 1 000 live births HIV/AIDS (0-4 years)|\n",
    "|GDP|Gross Domestic Product per capita (in USD)|\n",
    "|Population|Population of the country|\n",
    "|thinness 1-19 years|Prevalence of thinness among children and adolescents for Age 10 to 19 (%)|\n",
    "|thinness 5-9 years|Prevalence of thinness among children for Age 5 to 9(%)|\n",
    "|Income composition of resources|Income composition of resources|\n",
    "|Schooling|Number of years of Schooling(years)|"
   ]
  },
  {
   "cell_type": "markdown",
   "id": "e5b4eaaa-9557-4540-9450-2ea4690354a0",
   "metadata": {},
   "source": [
    "\n",
    "The first step towards learning any dataset is to read it and get a summarised overview of how the data looks like. Things to look out for are; few examples of the observations, total variables and observations under enquiry and generally what data types are present.\n",
    "\n"
   ]
  },
  {
   "cell_type": "markdown",
   "id": "2ac34438-dbca-4519-9327-2c51208fbdea",
   "metadata": {},
   "source": [
    "### STEP 1 : LOADING AND EXPLORING"
   ]
  },
  {
   "cell_type": "markdown",
   "id": "0ca9d95c-50f0-4711-80b3-3392d7eca594",
   "metadata": {},
   "source": [
    "#### Reading and Inspecting "
   ]
  },
  {
   "cell_type": "code",
   "execution_count": 2,
   "id": "4316b8e3-5d9a-4582-942b-f692685863a5",
   "metadata": {},
   "outputs": [
    {
     "data": {
      "text/html": [
       "<div>\n",
       "<style scoped>\n",
       "    .dataframe tbody tr th:only-of-type {\n",
       "        vertical-align: middle;\n",
       "    }\n",
       "\n",
       "    .dataframe tbody tr th {\n",
       "        vertical-align: top;\n",
       "    }\n",
       "\n",
       "    .dataframe thead th {\n",
       "        text-align: right;\n",
       "    }\n",
       "</style>\n",
       "<table border=\"1\" class=\"dataframe\">\n",
       "  <thead>\n",
       "    <tr style=\"text-align: right;\">\n",
       "      <th></th>\n",
       "      <th>Country</th>\n",
       "      <th>Year</th>\n",
       "      <th>Status</th>\n",
       "      <th>Lifeexpectancy</th>\n",
       "      <th>AdultMortality</th>\n",
       "      <th>infantdeaths</th>\n",
       "      <th>Alcohol</th>\n",
       "      <th>percentageexpenditure</th>\n",
       "      <th>HepatitisB</th>\n",
       "      <th>Measles</th>\n",
       "      <th>...</th>\n",
       "      <th>Polio</th>\n",
       "      <th>Totalexpenditure</th>\n",
       "      <th>Diphtheria</th>\n",
       "      <th>HIV/AIDS</th>\n",
       "      <th>GDP</th>\n",
       "      <th>Population</th>\n",
       "      <th>thinness1-19years</th>\n",
       "      <th>thinness5-9years</th>\n",
       "      <th>Incomecompositionofresources</th>\n",
       "      <th>Schooling</th>\n",
       "    </tr>\n",
       "  </thead>\n",
       "  <tbody>\n",
       "    <tr>\n",
       "      <th>0</th>\n",
       "      <td>Afghanistan</td>\n",
       "      <td>2015</td>\n",
       "      <td>Developing</td>\n",
       "      <td>65.0</td>\n",
       "      <td>263.0</td>\n",
       "      <td>62</td>\n",
       "      <td>0.01</td>\n",
       "      <td>71.279624</td>\n",
       "      <td>65.0</td>\n",
       "      <td>1154</td>\n",
       "      <td>...</td>\n",
       "      <td>6.0</td>\n",
       "      <td>8.16</td>\n",
       "      <td>65.0</td>\n",
       "      <td>0.1</td>\n",
       "      <td>584.259210</td>\n",
       "      <td>33736494.0</td>\n",
       "      <td>17.2</td>\n",
       "      <td>17.3</td>\n",
       "      <td>0.479</td>\n",
       "      <td>10.1</td>\n",
       "    </tr>\n",
       "    <tr>\n",
       "      <th>1</th>\n",
       "      <td>Afghanistan</td>\n",
       "      <td>2014</td>\n",
       "      <td>Developing</td>\n",
       "      <td>59.9</td>\n",
       "      <td>271.0</td>\n",
       "      <td>64</td>\n",
       "      <td>0.01</td>\n",
       "      <td>73.523582</td>\n",
       "      <td>62.0</td>\n",
       "      <td>492</td>\n",
       "      <td>...</td>\n",
       "      <td>58.0</td>\n",
       "      <td>8.18</td>\n",
       "      <td>62.0</td>\n",
       "      <td>0.1</td>\n",
       "      <td>612.696514</td>\n",
       "      <td>327582.0</td>\n",
       "      <td>17.5</td>\n",
       "      <td>17.5</td>\n",
       "      <td>0.476</td>\n",
       "      <td>10.0</td>\n",
       "    </tr>\n",
       "    <tr>\n",
       "      <th>2</th>\n",
       "      <td>Afghanistan</td>\n",
       "      <td>2013</td>\n",
       "      <td>Developing</td>\n",
       "      <td>59.9</td>\n",
       "      <td>268.0</td>\n",
       "      <td>66</td>\n",
       "      <td>0.01</td>\n",
       "      <td>73.219243</td>\n",
       "      <td>64.0</td>\n",
       "      <td>430</td>\n",
       "      <td>...</td>\n",
       "      <td>62.0</td>\n",
       "      <td>8.13</td>\n",
       "      <td>64.0</td>\n",
       "      <td>0.1</td>\n",
       "      <td>631.744976</td>\n",
       "      <td>31731688.0</td>\n",
       "      <td>17.7</td>\n",
       "      <td>17.7</td>\n",
       "      <td>0.470</td>\n",
       "      <td>9.9</td>\n",
       "    </tr>\n",
       "    <tr>\n",
       "      <th>3</th>\n",
       "      <td>Afghanistan</td>\n",
       "      <td>2012</td>\n",
       "      <td>Developing</td>\n",
       "      <td>59.5</td>\n",
       "      <td>272.0</td>\n",
       "      <td>69</td>\n",
       "      <td>0.01</td>\n",
       "      <td>78.184215</td>\n",
       "      <td>67.0</td>\n",
       "      <td>2787</td>\n",
       "      <td>...</td>\n",
       "      <td>67.0</td>\n",
       "      <td>8.52</td>\n",
       "      <td>67.0</td>\n",
       "      <td>0.1</td>\n",
       "      <td>669.959000</td>\n",
       "      <td>3696958.0</td>\n",
       "      <td>17.9</td>\n",
       "      <td>18.0</td>\n",
       "      <td>0.463</td>\n",
       "      <td>9.8</td>\n",
       "    </tr>\n",
       "  </tbody>\n",
       "</table>\n",
       "<p>4 rows × 22 columns</p>\n",
       "</div>"
      ],
      "text/plain": [
       "       Country  Year      Status  Lifeexpectancy  AdultMortality  \\\n",
       "0  Afghanistan  2015  Developing            65.0           263.0   \n",
       "1  Afghanistan  2014  Developing            59.9           271.0   \n",
       "2  Afghanistan  2013  Developing            59.9           268.0   \n",
       "3  Afghanistan  2012  Developing            59.5           272.0   \n",
       "\n",
       "   infantdeaths  Alcohol  percentageexpenditure  HepatitisB  Measles  ...  \\\n",
       "0            62     0.01              71.279624        65.0     1154  ...   \n",
       "1            64     0.01              73.523582        62.0      492  ...   \n",
       "2            66     0.01              73.219243        64.0      430  ...   \n",
       "3            69     0.01              78.184215        67.0     2787  ...   \n",
       "\n",
       "   Polio  Totalexpenditure  Diphtheria  HIV/AIDS         GDP  Population  \\\n",
       "0    6.0              8.16        65.0       0.1  584.259210  33736494.0   \n",
       "1   58.0              8.18        62.0       0.1  612.696514    327582.0   \n",
       "2   62.0              8.13        64.0       0.1  631.744976  31731688.0   \n",
       "3   67.0              8.52        67.0       0.1  669.959000   3696958.0   \n",
       "\n",
       "   thinness1-19years  thinness5-9years  Incomecompositionofresources  \\\n",
       "0               17.2              17.3                         0.479   \n",
       "1               17.5              17.5                         0.476   \n",
       "2               17.7              17.7                         0.470   \n",
       "3               17.9              18.0                         0.463   \n",
       "\n",
       "   Schooling  \n",
       "0       10.1  \n",
       "1       10.0  \n",
       "2        9.9  \n",
       "3        9.8  \n",
       "\n",
       "[4 rows x 22 columns]"
      ]
     },
     "execution_count": 2,
     "metadata": {},
     "output_type": "execute_result"
    }
   ],
   "source": [
    "#reading in the data\n",
    "Life_Expectancy=pd.read_csv(\"led.csv\")\n",
    "\n",
    "#a peak of the data\n",
    "Life_Expectancy.head(4)"
   ]
  },
  {
   "cell_type": "markdown",
   "id": "f8678031-0c81-47e2-a11b-10ae07085c4f",
   "metadata": {},
   "source": []
  },
  {
   "cell_type": "code",
   "execution_count": 3,
   "id": "ed43758f-fd14-4648-bfbb-a4a8d5d2d8f6",
   "metadata": {},
   "outputs": [
    {
     "data": {
      "text/html": [
       "<div>\n",
       "<style scoped>\n",
       "    .dataframe tbody tr th:only-of-type {\n",
       "        vertical-align: middle;\n",
       "    }\n",
       "\n",
       "    .dataframe tbody tr th {\n",
       "        vertical-align: top;\n",
       "    }\n",
       "\n",
       "    .dataframe thead th {\n",
       "        text-align: right;\n",
       "    }\n",
       "</style>\n",
       "<table border=\"1\" class=\"dataframe\">\n",
       "  <thead>\n",
       "    <tr style=\"text-align: right;\">\n",
       "      <th></th>\n",
       "      <th>Country</th>\n",
       "      <th>Year</th>\n",
       "      <th>Status</th>\n",
       "      <th>Lifeexpectancy</th>\n",
       "      <th>AdultMortality</th>\n",
       "      <th>infantdeaths</th>\n",
       "      <th>Alcohol</th>\n",
       "      <th>percentageexpenditure</th>\n",
       "      <th>HepatitisB</th>\n",
       "      <th>Measles</th>\n",
       "      <th>...</th>\n",
       "      <th>Polio</th>\n",
       "      <th>Totalexpenditure</th>\n",
       "      <th>Diphtheria</th>\n",
       "      <th>HIV/AIDS</th>\n",
       "      <th>GDP</th>\n",
       "      <th>Population</th>\n",
       "      <th>thinness1-19years</th>\n",
       "      <th>thinness5-9years</th>\n",
       "      <th>Incomecompositionofresources</th>\n",
       "      <th>Schooling</th>\n",
       "    </tr>\n",
       "  </thead>\n",
       "  <tbody>\n",
       "    <tr>\n",
       "      <th>2936</th>\n",
       "      <td>Zimbabwe</td>\n",
       "      <td>2001</td>\n",
       "      <td>Developing</td>\n",
       "      <td>45.3</td>\n",
       "      <td>686.0</td>\n",
       "      <td>25</td>\n",
       "      <td>1.72</td>\n",
       "      <td>0.0</td>\n",
       "      <td>76.0</td>\n",
       "      <td>529</td>\n",
       "      <td>...</td>\n",
       "      <td>76.0</td>\n",
       "      <td>6.16</td>\n",
       "      <td>75.0</td>\n",
       "      <td>42.1</td>\n",
       "      <td>548.587312</td>\n",
       "      <td>12366165.0</td>\n",
       "      <td>1.6</td>\n",
       "      <td>1.7</td>\n",
       "      <td>0.427</td>\n",
       "      <td>9.8</td>\n",
       "    </tr>\n",
       "    <tr>\n",
       "      <th>2937</th>\n",
       "      <td>Zimbabwe</td>\n",
       "      <td>2000</td>\n",
       "      <td>Developing</td>\n",
       "      <td>46.0</td>\n",
       "      <td>665.0</td>\n",
       "      <td>24</td>\n",
       "      <td>1.68</td>\n",
       "      <td>0.0</td>\n",
       "      <td>79.0</td>\n",
       "      <td>1483</td>\n",
       "      <td>...</td>\n",
       "      <td>78.0</td>\n",
       "      <td>7.10</td>\n",
       "      <td>78.0</td>\n",
       "      <td>43.5</td>\n",
       "      <td>547.358878</td>\n",
       "      <td>12222251.0</td>\n",
       "      <td>11.0</td>\n",
       "      <td>11.2</td>\n",
       "      <td>0.434</td>\n",
       "      <td>9.8</td>\n",
       "    </tr>\n",
       "  </tbody>\n",
       "</table>\n",
       "<p>2 rows × 22 columns</p>\n",
       "</div>"
      ],
      "text/plain": [
       "       Country  Year      Status  Lifeexpectancy  AdultMortality  \\\n",
       "2936  Zimbabwe  2001  Developing            45.3           686.0   \n",
       "2937  Zimbabwe  2000  Developing            46.0           665.0   \n",
       "\n",
       "      infantdeaths  Alcohol  percentageexpenditure  HepatitisB  Measles  ...  \\\n",
       "2936            25     1.72                    0.0        76.0      529  ...   \n",
       "2937            24     1.68                    0.0        79.0     1483  ...   \n",
       "\n",
       "      Polio  Totalexpenditure  Diphtheria  HIV/AIDS         GDP  Population  \\\n",
       "2936   76.0              6.16        75.0      42.1  548.587312  12366165.0   \n",
       "2937   78.0              7.10        78.0      43.5  547.358878  12222251.0   \n",
       "\n",
       "      thinness1-19years  thinness5-9years  Incomecompositionofresources  \\\n",
       "2936                1.6               1.7                         0.427   \n",
       "2937               11.0              11.2                         0.434   \n",
       "\n",
       "      Schooling  \n",
       "2936        9.8  \n",
       "2937        9.8  \n",
       "\n",
       "[2 rows x 22 columns]"
      ]
     },
     "execution_count": 3,
     "metadata": {},
     "output_type": "execute_result"
    }
   ],
   "source": [
    "#last data observations\n",
    "Life_Expectancy.tail(2)"
   ]
  },
  {
   "cell_type": "code",
   "execution_count": 4,
   "id": "46a8921b-fdfe-429c-8521-856353559882",
   "metadata": {},
   "outputs": [
    {
     "data": {
      "text/plain": [
       "(2938, 22)"
      ]
     },
     "execution_count": 4,
     "metadata": {},
     "output_type": "execute_result"
    }
   ],
   "source": [
    "Life_Expectancy.shape"
   ]
  },
  {
   "cell_type": "code",
   "execution_count": 5,
   "id": "fbfac96e-a941-43eb-8548-c2e0b38f92bd",
   "metadata": {},
   "outputs": [
    {
     "data": {
      "text/plain": [
       "Index(['Country', 'Year', 'Status', 'Lifeexpectancy', 'AdultMortality',\n",
       "       'infantdeaths', 'Alcohol', 'percentageexpenditure', 'HepatitisB',\n",
       "       'Measles', 'BMI', 'under-fivedeaths', 'Polio', 'Totalexpenditure',\n",
       "       'Diphtheria', 'HIV/AIDS', 'GDP', 'Population', 'thinness1-19years',\n",
       "       'thinness5-9years', 'Incomecompositionofresources', 'Schooling'],\n",
       "      dtype='object')"
      ]
     },
     "execution_count": 5,
     "metadata": {},
     "output_type": "execute_result"
    }
   ],
   "source": [
    "#INSPECTING COLUMN NAMES\n",
    "Life_Expectancy.columns"
   ]
  },
  {
   "cell_type": "markdown",
   "id": "530d8c04-43b7-4b53-a9a7-960fcaf98fe4",
   "metadata": {},
   "source": [
    "#### Summary Statistics"
   ]
  },
  {
   "cell_type": "markdown",
   "id": "caef422d-2305-474d-9989-18d0422c9682",
   "metadata": {},
   "source": [
    "**Missing Values and Data types inspection**"
   ]
  },
  {
   "cell_type": "code",
   "execution_count": 6,
   "id": "5a1cace8-9c78-4e87-ae74-bf6c780a7e47",
   "metadata": {},
   "outputs": [
    {
     "name": "stdout",
     "output_type": "stream",
     "text": [
      "<class 'pandas.core.frame.DataFrame'>\n",
      "RangeIndex: 2938 entries, 0 to 2937\n",
      "Data columns (total 22 columns):\n",
      " #   Column                        Non-Null Count  Dtype  \n",
      "---  ------                        --------------  -----  \n",
      " 0   Country                       2938 non-null   object \n",
      " 1   Year                          2938 non-null   int64  \n",
      " 2   Status                        2938 non-null   object \n",
      " 3   Lifeexpectancy                2928 non-null   float64\n",
      " 4   AdultMortality                2928 non-null   float64\n",
      " 5   infantdeaths                  2938 non-null   int64  \n",
      " 6   Alcohol                       2744 non-null   float64\n",
      " 7   percentageexpenditure         2938 non-null   float64\n",
      " 8   HepatitisB                    2385 non-null   float64\n",
      " 9   Measles                       2938 non-null   int64  \n",
      " 10  BMI                           2904 non-null   float64\n",
      " 11  under-fivedeaths              2938 non-null   int64  \n",
      " 12  Polio                         2919 non-null   float64\n",
      " 13  Totalexpenditure              2712 non-null   float64\n",
      " 14  Diphtheria                    2919 non-null   float64\n",
      " 15  HIV/AIDS                      2938 non-null   float64\n",
      " 16  GDP                           2490 non-null   float64\n",
      " 17  Population                    2286 non-null   float64\n",
      " 18  thinness1-19years             2904 non-null   float64\n",
      " 19  thinness5-9years              2904 non-null   float64\n",
      " 20  Incomecompositionofresources  2771 non-null   float64\n",
      " 21  Schooling                     2775 non-null   float64\n",
      "dtypes: float64(16), int64(4), object(2)\n",
      "memory usage: 505.1+ KB\n"
     ]
    }
   ],
   "source": [
    "Life_Expectancy.info()"
   ]
  },
  {
   "cell_type": "code",
   "execution_count": 7,
   "id": "4250f062-eb48-44ba-818b-113adebce56c",
   "metadata": {},
   "outputs": [
    {
     "data": {
      "text/html": [
       "<div>\n",
       "<style scoped>\n",
       "    .dataframe tbody tr th:only-of-type {\n",
       "        vertical-align: middle;\n",
       "    }\n",
       "\n",
       "    .dataframe tbody tr th {\n",
       "        vertical-align: top;\n",
       "    }\n",
       "\n",
       "    .dataframe thead th {\n",
       "        text-align: right;\n",
       "    }\n",
       "</style>\n",
       "<table border=\"1\" class=\"dataframe\">\n",
       "  <thead>\n",
       "    <tr style=\"text-align: right;\">\n",
       "      <th></th>\n",
       "      <th>Total</th>\n",
       "      <th>Percentage</th>\n",
       "    </tr>\n",
       "  </thead>\n",
       "  <tbody>\n",
       "    <tr>\n",
       "      <th>Population</th>\n",
       "      <td>652</td>\n",
       "      <td>22.19</td>\n",
       "    </tr>\n",
       "    <tr>\n",
       "      <th>HepatitisB</th>\n",
       "      <td>553</td>\n",
       "      <td>18.82</td>\n",
       "    </tr>\n",
       "    <tr>\n",
       "      <th>GDP</th>\n",
       "      <td>448</td>\n",
       "      <td>15.25</td>\n",
       "    </tr>\n",
       "    <tr>\n",
       "      <th>Totalexpenditure</th>\n",
       "      <td>226</td>\n",
       "      <td>7.69</td>\n",
       "    </tr>\n",
       "    <tr>\n",
       "      <th>Alcohol</th>\n",
       "      <td>194</td>\n",
       "      <td>6.60</td>\n",
       "    </tr>\n",
       "    <tr>\n",
       "      <th>Incomecompositionofresources</th>\n",
       "      <td>167</td>\n",
       "      <td>5.68</td>\n",
       "    </tr>\n",
       "    <tr>\n",
       "      <th>Schooling</th>\n",
       "      <td>163</td>\n",
       "      <td>5.55</td>\n",
       "    </tr>\n",
       "    <tr>\n",
       "      <th>thinness5-9years</th>\n",
       "      <td>34</td>\n",
       "      <td>1.16</td>\n",
       "    </tr>\n",
       "    <tr>\n",
       "      <th>thinness1-19years</th>\n",
       "      <td>34</td>\n",
       "      <td>1.16</td>\n",
       "    </tr>\n",
       "    <tr>\n",
       "      <th>BMI</th>\n",
       "      <td>34</td>\n",
       "      <td>1.16</td>\n",
       "    </tr>\n",
       "    <tr>\n",
       "      <th>Polio</th>\n",
       "      <td>19</td>\n",
       "      <td>0.65</td>\n",
       "    </tr>\n",
       "    <tr>\n",
       "      <th>Diphtheria</th>\n",
       "      <td>19</td>\n",
       "      <td>0.65</td>\n",
       "    </tr>\n",
       "    <tr>\n",
       "      <th>Lifeexpectancy</th>\n",
       "      <td>10</td>\n",
       "      <td>0.34</td>\n",
       "    </tr>\n",
       "    <tr>\n",
       "      <th>AdultMortality</th>\n",
       "      <td>10</td>\n",
       "      <td>0.34</td>\n",
       "    </tr>\n",
       "    <tr>\n",
       "      <th>HIV/AIDS</th>\n",
       "      <td>0</td>\n",
       "      <td>0.00</td>\n",
       "    </tr>\n",
       "    <tr>\n",
       "      <th>Country</th>\n",
       "      <td>0</td>\n",
       "      <td>0.00</td>\n",
       "    </tr>\n",
       "    <tr>\n",
       "      <th>Year</th>\n",
       "      <td>0</td>\n",
       "      <td>0.00</td>\n",
       "    </tr>\n",
       "    <tr>\n",
       "      <th>Measles</th>\n",
       "      <td>0</td>\n",
       "      <td>0.00</td>\n",
       "    </tr>\n",
       "    <tr>\n",
       "      <th>percentageexpenditure</th>\n",
       "      <td>0</td>\n",
       "      <td>0.00</td>\n",
       "    </tr>\n",
       "    <tr>\n",
       "      <th>infantdeaths</th>\n",
       "      <td>0</td>\n",
       "      <td>0.00</td>\n",
       "    </tr>\n",
       "    <tr>\n",
       "      <th>Status</th>\n",
       "      <td>0</td>\n",
       "      <td>0.00</td>\n",
       "    </tr>\n",
       "    <tr>\n",
       "      <th>under-fivedeaths</th>\n",
       "      <td>0</td>\n",
       "      <td>0.00</td>\n",
       "    </tr>\n",
       "  </tbody>\n",
       "</table>\n",
       "</div>"
      ],
      "text/plain": [
       "                              Total  Percentage\n",
       "Population                      652       22.19\n",
       "HepatitisB                      553       18.82\n",
       "GDP                             448       15.25\n",
       "Totalexpenditure                226        7.69\n",
       "Alcohol                         194        6.60\n",
       "Incomecompositionofresources    167        5.68\n",
       "Schooling                       163        5.55\n",
       "thinness5-9years                 34        1.16\n",
       "thinness1-19years                34        1.16\n",
       "BMI                              34        1.16\n",
       "Polio                            19        0.65\n",
       "Diphtheria                       19        0.65\n",
       "Lifeexpectancy                   10        0.34\n",
       "AdultMortality                   10        0.34\n",
       "HIV/AIDS                          0        0.00\n",
       "Country                           0        0.00\n",
       "Year                              0        0.00\n",
       "Measles                           0        0.00\n",
       "percentageexpenditure             0        0.00\n",
       "infantdeaths                      0        0.00\n",
       "Status                            0        0.00\n",
       "under-fivedeaths                  0        0.00"
      ]
     },
     "execution_count": 7,
     "metadata": {},
     "output_type": "execute_result"
    }
   ],
   "source": [
    "def missing_values(data):\n",
    "    \"\"\"Function that checks for null values and computes the percentage of null values\n",
    "    Args:\n",
    "        data: loaded dataframe\n",
    "    Return:\n",
    "        dataframe: dataframe of total null values with corresponding percentages\n",
    "    \"\"\"\n",
    "    total = data.isnull().sum().sort_values(ascending=False)   # create an empty datafram\n",
    "    percentage = round((total / data.shape[0]) * 100, 2)\n",
    "    \n",
    "    return pd.concat([total, percentage], axis=1, keys=['Total','Percentage'])\n",
    "\n",
    "\n",
    "missing_values(Life_Expectancy)"
   ]
  },
  {
   "cell_type": "markdown",
   "id": "5fafa3ca-372c-4021-830b-7c3ae5b650b9",
   "metadata": {},
   "source": []
  },
  {
   "cell_type": "markdown",
   "id": "00ebbe2c-71dd-402e-bf45-7181f25ae68e",
   "metadata": {},
   "source": [
    "**INSPECTING ANOMALIES**\n",
    "\n",
    "Here, there is the need to get summary statistics of the numerical variable to get an idea of how the data is distributed in order to make decisions on the next steps in the data cleaning process."
   ]
  },
  {
   "cell_type": "code",
   "execution_count": 8,
   "id": "e9b2e0ed-0744-4c36-b6c6-146bc82f795f",
   "metadata": {
    "tags": []
   },
   "outputs": [
    {
     "data": {
      "text/html": [
       "<div>\n",
       "<style scoped>\n",
       "    .dataframe tbody tr th:only-of-type {\n",
       "        vertical-align: middle;\n",
       "    }\n",
       "\n",
       "    .dataframe tbody tr th {\n",
       "        vertical-align: top;\n",
       "    }\n",
       "\n",
       "    .dataframe thead th {\n",
       "        text-align: right;\n",
       "    }\n",
       "</style>\n",
       "<table border=\"1\" class=\"dataframe\">\n",
       "  <thead>\n",
       "    <tr style=\"text-align: right;\">\n",
       "      <th></th>\n",
       "      <th>Year</th>\n",
       "      <th>Lifeexpectancy</th>\n",
       "      <th>AdultMortality</th>\n",
       "      <th>infantdeaths</th>\n",
       "      <th>Alcohol</th>\n",
       "      <th>percentageexpenditure</th>\n",
       "      <th>HepatitisB</th>\n",
       "      <th>Measles</th>\n",
       "      <th>BMI</th>\n",
       "      <th>under-fivedeaths</th>\n",
       "      <th>Polio</th>\n",
       "      <th>Totalexpenditure</th>\n",
       "      <th>Diphtheria</th>\n",
       "      <th>HIV/AIDS</th>\n",
       "      <th>GDP</th>\n",
       "      <th>Population</th>\n",
       "      <th>thinness1-19years</th>\n",
       "      <th>thinness5-9years</th>\n",
       "      <th>Incomecompositionofresources</th>\n",
       "      <th>Schooling</th>\n",
       "    </tr>\n",
       "  </thead>\n",
       "  <tbody>\n",
       "    <tr>\n",
       "      <th>count</th>\n",
       "      <td>2938.000000</td>\n",
       "      <td>2928.000000</td>\n",
       "      <td>2928.000000</td>\n",
       "      <td>2938.000000</td>\n",
       "      <td>2744.000000</td>\n",
       "      <td>2938.000000</td>\n",
       "      <td>2385.000000</td>\n",
       "      <td>2938.000000</td>\n",
       "      <td>2904.000000</td>\n",
       "      <td>2938.000000</td>\n",
       "      <td>2919.000000</td>\n",
       "      <td>2712.00000</td>\n",
       "      <td>2919.000000</td>\n",
       "      <td>2938.000000</td>\n",
       "      <td>2490.000000</td>\n",
       "      <td>2.286000e+03</td>\n",
       "      <td>2904.000000</td>\n",
       "      <td>2904.000000</td>\n",
       "      <td>2771.000000</td>\n",
       "      <td>2775.000000</td>\n",
       "    </tr>\n",
       "    <tr>\n",
       "      <th>mean</th>\n",
       "      <td>2007.518720</td>\n",
       "      <td>69.224932</td>\n",
       "      <td>164.796448</td>\n",
       "      <td>30.303948</td>\n",
       "      <td>4.602861</td>\n",
       "      <td>738.251295</td>\n",
       "      <td>80.940461</td>\n",
       "      <td>2419.592240</td>\n",
       "      <td>38.321247</td>\n",
       "      <td>42.035739</td>\n",
       "      <td>82.550188</td>\n",
       "      <td>5.93819</td>\n",
       "      <td>82.324084</td>\n",
       "      <td>1.742103</td>\n",
       "      <td>7483.158469</td>\n",
       "      <td>1.275338e+07</td>\n",
       "      <td>4.839704</td>\n",
       "      <td>4.870317</td>\n",
       "      <td>0.627551</td>\n",
       "      <td>11.992793</td>\n",
       "    </tr>\n",
       "    <tr>\n",
       "      <th>std</th>\n",
       "      <td>4.613841</td>\n",
       "      <td>9.523867</td>\n",
       "      <td>124.292079</td>\n",
       "      <td>117.926501</td>\n",
       "      <td>4.052413</td>\n",
       "      <td>1987.914858</td>\n",
       "      <td>25.070016</td>\n",
       "      <td>11467.272489</td>\n",
       "      <td>20.044034</td>\n",
       "      <td>160.445548</td>\n",
       "      <td>23.428046</td>\n",
       "      <td>2.49832</td>\n",
       "      <td>23.716912</td>\n",
       "      <td>5.077785</td>\n",
       "      <td>14270.169342</td>\n",
       "      <td>6.101210e+07</td>\n",
       "      <td>4.420195</td>\n",
       "      <td>4.508882</td>\n",
       "      <td>0.210904</td>\n",
       "      <td>3.358920</td>\n",
       "    </tr>\n",
       "    <tr>\n",
       "      <th>min</th>\n",
       "      <td>2000.000000</td>\n",
       "      <td>36.300000</td>\n",
       "      <td>1.000000</td>\n",
       "      <td>0.000000</td>\n",
       "      <td>0.010000</td>\n",
       "      <td>0.000000</td>\n",
       "      <td>1.000000</td>\n",
       "      <td>0.000000</td>\n",
       "      <td>1.000000</td>\n",
       "      <td>0.000000</td>\n",
       "      <td>3.000000</td>\n",
       "      <td>0.37000</td>\n",
       "      <td>2.000000</td>\n",
       "      <td>0.100000</td>\n",
       "      <td>1.681350</td>\n",
       "      <td>3.400000e+01</td>\n",
       "      <td>0.100000</td>\n",
       "      <td>0.100000</td>\n",
       "      <td>0.000000</td>\n",
       "      <td>0.000000</td>\n",
       "    </tr>\n",
       "    <tr>\n",
       "      <th>25%</th>\n",
       "      <td>2004.000000</td>\n",
       "      <td>63.100000</td>\n",
       "      <td>74.000000</td>\n",
       "      <td>0.000000</td>\n",
       "      <td>0.877500</td>\n",
       "      <td>4.685343</td>\n",
       "      <td>77.000000</td>\n",
       "      <td>0.000000</td>\n",
       "      <td>19.300000</td>\n",
       "      <td>0.000000</td>\n",
       "      <td>78.000000</td>\n",
       "      <td>4.26000</td>\n",
       "      <td>78.000000</td>\n",
       "      <td>0.100000</td>\n",
       "      <td>463.935626</td>\n",
       "      <td>1.957932e+05</td>\n",
       "      <td>1.600000</td>\n",
       "      <td>1.500000</td>\n",
       "      <td>0.493000</td>\n",
       "      <td>10.100000</td>\n",
       "    </tr>\n",
       "    <tr>\n",
       "      <th>50%</th>\n",
       "      <td>2008.000000</td>\n",
       "      <td>72.100000</td>\n",
       "      <td>144.000000</td>\n",
       "      <td>3.000000</td>\n",
       "      <td>3.755000</td>\n",
       "      <td>64.912906</td>\n",
       "      <td>92.000000</td>\n",
       "      <td>17.000000</td>\n",
       "      <td>43.500000</td>\n",
       "      <td>4.000000</td>\n",
       "      <td>93.000000</td>\n",
       "      <td>5.75500</td>\n",
       "      <td>93.000000</td>\n",
       "      <td>0.100000</td>\n",
       "      <td>1766.947595</td>\n",
       "      <td>1.386542e+06</td>\n",
       "      <td>3.300000</td>\n",
       "      <td>3.300000</td>\n",
       "      <td>0.677000</td>\n",
       "      <td>12.300000</td>\n",
       "    </tr>\n",
       "    <tr>\n",
       "      <th>75%</th>\n",
       "      <td>2012.000000</td>\n",
       "      <td>75.700000</td>\n",
       "      <td>228.000000</td>\n",
       "      <td>22.000000</td>\n",
       "      <td>7.702500</td>\n",
       "      <td>441.534144</td>\n",
       "      <td>97.000000</td>\n",
       "      <td>360.250000</td>\n",
       "      <td>56.200000</td>\n",
       "      <td>28.000000</td>\n",
       "      <td>97.000000</td>\n",
       "      <td>7.49250</td>\n",
       "      <td>97.000000</td>\n",
       "      <td>0.800000</td>\n",
       "      <td>5910.806335</td>\n",
       "      <td>7.420359e+06</td>\n",
       "      <td>7.200000</td>\n",
       "      <td>7.200000</td>\n",
       "      <td>0.779000</td>\n",
       "      <td>14.300000</td>\n",
       "    </tr>\n",
       "    <tr>\n",
       "      <th>max</th>\n",
       "      <td>2015.000000</td>\n",
       "      <td>89.000000</td>\n",
       "      <td>723.000000</td>\n",
       "      <td>1800.000000</td>\n",
       "      <td>17.870000</td>\n",
       "      <td>19479.911610</td>\n",
       "      <td>99.000000</td>\n",
       "      <td>212183.000000</td>\n",
       "      <td>87.300000</td>\n",
       "      <td>2500.000000</td>\n",
       "      <td>99.000000</td>\n",
       "      <td>17.60000</td>\n",
       "      <td>99.000000</td>\n",
       "      <td>50.600000</td>\n",
       "      <td>119172.741800</td>\n",
       "      <td>1.293859e+09</td>\n",
       "      <td>27.700000</td>\n",
       "      <td>28.600000</td>\n",
       "      <td>0.948000</td>\n",
       "      <td>20.700000</td>\n",
       "    </tr>\n",
       "  </tbody>\n",
       "</table>\n",
       "</div>"
      ],
      "text/plain": [
       "              Year  Lifeexpectancy  AdultMortality  infantdeaths      Alcohol  \\\n",
       "count  2938.000000     2928.000000     2928.000000   2938.000000  2744.000000   \n",
       "mean   2007.518720       69.224932      164.796448     30.303948     4.602861   \n",
       "std       4.613841        9.523867      124.292079    117.926501     4.052413   \n",
       "min    2000.000000       36.300000        1.000000      0.000000     0.010000   \n",
       "25%    2004.000000       63.100000       74.000000      0.000000     0.877500   \n",
       "50%    2008.000000       72.100000      144.000000      3.000000     3.755000   \n",
       "75%    2012.000000       75.700000      228.000000     22.000000     7.702500   \n",
       "max    2015.000000       89.000000      723.000000   1800.000000    17.870000   \n",
       "\n",
       "       percentageexpenditure   HepatitisB        Measles          BMI  \\\n",
       "count            2938.000000  2385.000000    2938.000000  2904.000000   \n",
       "mean              738.251295    80.940461    2419.592240    38.321247   \n",
       "std              1987.914858    25.070016   11467.272489    20.044034   \n",
       "min                 0.000000     1.000000       0.000000     1.000000   \n",
       "25%                 4.685343    77.000000       0.000000    19.300000   \n",
       "50%                64.912906    92.000000      17.000000    43.500000   \n",
       "75%               441.534144    97.000000     360.250000    56.200000   \n",
       "max             19479.911610    99.000000  212183.000000    87.300000   \n",
       "\n",
       "       under-fivedeaths        Polio  Totalexpenditure   Diphtheria  \\\n",
       "count       2938.000000  2919.000000        2712.00000  2919.000000   \n",
       "mean          42.035739    82.550188           5.93819    82.324084   \n",
       "std          160.445548    23.428046           2.49832    23.716912   \n",
       "min            0.000000     3.000000           0.37000     2.000000   \n",
       "25%            0.000000    78.000000           4.26000    78.000000   \n",
       "50%            4.000000    93.000000           5.75500    93.000000   \n",
       "75%           28.000000    97.000000           7.49250    97.000000   \n",
       "max         2500.000000    99.000000          17.60000    99.000000   \n",
       "\n",
       "          HIV/AIDS            GDP    Population  thinness1-19years  \\\n",
       "count  2938.000000    2490.000000  2.286000e+03        2904.000000   \n",
       "mean      1.742103    7483.158469  1.275338e+07           4.839704   \n",
       "std       5.077785   14270.169342  6.101210e+07           4.420195   \n",
       "min       0.100000       1.681350  3.400000e+01           0.100000   \n",
       "25%       0.100000     463.935626  1.957932e+05           1.600000   \n",
       "50%       0.100000    1766.947595  1.386542e+06           3.300000   \n",
       "75%       0.800000    5910.806335  7.420359e+06           7.200000   \n",
       "max      50.600000  119172.741800  1.293859e+09          27.700000   \n",
       "\n",
       "       thinness5-9years  Incomecompositionofresources    Schooling  \n",
       "count       2904.000000                   2771.000000  2775.000000  \n",
       "mean           4.870317                      0.627551    11.992793  \n",
       "std            4.508882                      0.210904     3.358920  \n",
       "min            0.100000                      0.000000     0.000000  \n",
       "25%            1.500000                      0.493000    10.100000  \n",
       "50%            3.300000                      0.677000    12.300000  \n",
       "75%            7.200000                      0.779000    14.300000  \n",
       "max           28.600000                      0.948000    20.700000  "
      ]
     },
     "execution_count": 8,
     "metadata": {},
     "output_type": "execute_result"
    }
   ],
   "source": [
    "Life_Expectancy.describe()"
   ]
  },
  {
   "cell_type": "code",
   "execution_count": 9,
   "id": "e9c51ac3-f24f-4614-a9f5-c60cfcf4dbcd",
   "metadata": {},
   "outputs": [
    {
     "data": {
      "image/png": "[encoded data removed]",
      "text/plain": [
       "<Figure size 1152x1152 with 20 Axes>"
      ]
     },
     "metadata": {
      "needs_background": "light"
     },
     "output_type": "display_data"
    }
   ],
   "source": [
    "histograms= Life_Expectancy.hist(figsize=(16,16), grid=False)"
   ]
  },
  {
   "cell_type": "code",
   "execution_count": 10,
   "id": "c0be4074-ffcc-4b55-99a4-3939f8487411",
   "metadata": {},
   "outputs": [],
   "source": [
    "df1=Life_Expectancy.select_dtypes(exclude=['object'])"
   ]
  },
  {
   "cell_type": "code",
   "execution_count": 11,
   "id": "708eba27-db7b-4dd7-9f47-cbfc9ace2861",
   "metadata": {},
   "outputs": [
    {
     "data": {
      "image/png": "[encoded data removed]",
      "text/plain": [
       "<Figure size 1224x72 with 1 Axes>"
      ]
     },
     "metadata": {
      "needs_background": "light"
     },
     "output_type": "display_data"
    },
    {
     "data": {
      "image/png": "[encoded data removed]",
      "text/plain": [
       "<Figure size 1224x72 with 1 Axes>"
      ]
     },
     "metadata": {
      "needs_background": "light"
     },
     "output_type": "display_data"
    },
    {
     "data": {
      "image/png": "[encoded data removed]",
      "text/plain": [
       "<Figure size 1224x72 with 1 Axes>"
      ]
     },
     "metadata": {
      "needs_background": "light"
     },
     "output_type": "display_data"
    },
    {
     "data": {
      "image/png": "[encoded data removed]",
      "text/plain": [
       "<Figure size 1224x72 with 1 Axes>"
      ]
     },
     "metadata": {
      "needs_background": "light"
     },
     "output_type": "display_data"
    },
    {
     "data": {
      "image/png": "[encoded data removed]",
      "text/plain": [
       "<Figure size 1224x72 with 1 Axes>"
      ]
     },
     "metadata": {
      "needs_background": "light"
     },
     "output_type": "display_data"
    },
    {
     "data": {
      "image/png": "[encoded data removed]",
      "text/plain": [
       "<Figure size 1224x72 with 1 Axes>"
      ]
     },
     "metadata": {
      "needs_background": "light"
     },
     "output_type": "display_data"
    },
    {
     "data": {
      "image/png": "[encoded data removed]",
      "text/plain": [
       "<Figure size 1224x72 with 1 Axes>"
      ]
     },
     "metadata": {
      "needs_background": "light"
     },
     "output_type": "display_data"
    },
    {
     "data": {
      "image/png": "[encoded data removed]",
      "text/plain": [
       "<Figure size 1224x72 with 1 Axes>"
      ]
     },
     "metadata": {
      "needs_background": "light"
     },
     "output_type": "display_data"
    },
    {
     "data": {
      "image/png": "[encoded data removed]",
      "text/plain": [
       "<Figure size 1224x72 with 1 Axes>"
      ]
     },
     "metadata": {
      "needs_background": "light"
     },
     "output_type": "display_data"
    },
    {
     "data": {
      "image/png": "[encoded data removed]",
      "text/plain": [
       "<Figure size 1224x72 with 1 Axes>"
      ]
     },
     "metadata": {
      "needs_background": "light"
     },
     "output_type": "display_data"
    },
    {
     "data": {
      "image/png": "[encoded data removed]",
      "text/plain": [
       "<Figure size 1224x72 with 1 Axes>"
      ]
     },
     "metadata": {
      "needs_background": "light"
     },
     "output_type": "display_data"
    },
    {
     "data": {
      "image/png": "[encoded data removed]",
      "text/plain": [
       "<Figure size 1224x72 with 1 Axes>"
      ]
     },
     "metadata": {
      "needs_background": "light"
     },
     "output_type": "display_data"
    },
    {
     "data": {
      "image/png": "[encoded data removed]",
      "text/plain": [
       "<Figure size 1224x72 with 1 Axes>"
      ]
     },
     "metadata": {
      "needs_background": "light"
     },
     "output_type": "display_data"
    },
    {
     "data": {
      "image/png": "[encoded data removed]",
      "text/plain": [
       "<Figure size 1224x72 with 1 Axes>"
      ]
     },
     "metadata": {
      "needs_background": "light"
     },
     "output_type": "display_data"
    },
    {
     "data": {
      "image/png": "[encoded data removed]",
      "text/plain": [
       "<Figure size 1224x72 with 1 Axes>"
      ]
     },
     "metadata": {
      "needs_background": "light"
     },
     "output_type": "display_data"
    },
    {
     "data": {
      "image/png": "[encoded data removed]",
      "text/plain": [
       "<Figure size 1224x72 with 1 Axes>"
      ]
     },
     "metadata": {
      "needs_background": "light"
     },
     "output_type": "display_data"
    },
    {
     "data": {
      "image/png": "[encoded data removed]",
      "text/plain": [
       "<Figure size 1224x72 with 1 Axes>"
      ]
     },
     "metadata": {
      "needs_background": "light"
     },
     "output_type": "display_data"
    },
    {
     "data": {
      "image/png": "[encoded data removed]",
      "text/plain": [
       "<Figure size 1224x72 with 1 Axes>"
      ]
     },
     "metadata": {
      "needs_background": "light"
     },
     "output_type": "display_data"
    },
    {
     "data": {
      "image/png": "[encoded data removed]",
      "text/plain": [
       "<Figure size 1224x72 with 1 Axes>"
      ]
     },
     "metadata": {
      "needs_background": "light"
     },
     "output_type": "display_data"
    },
    {
     "data": {
      "image/png": "[encoded data removed]",
      "text/plain": [
       "<Figure size 1224x72 with 1 Axes>"
      ]
     },
     "metadata": {
      "needs_background": "light"
     },
     "output_type": "display_data"
    }
   ],
   "source": [
    "for column in df1:\n",
    "        plt.figure(figsize=(17,1))\n",
    "        sns.boxplot(data=df1, x=column)"
   ]
  },
  {
   "cell_type": "markdown",
   "id": "98e54b03-e50c-4092-984b-abc5bebd6e7e",
   "metadata": {},
   "source": []
  },
  {
   "cell_type": "code",
   "execution_count": 12,
   "id": "b384e84d-19dd-45d7-afff-eff2c15a187e",
   "metadata": {},
   "outputs": [
    {
     "name": "stdout",
     "output_type": "stream",
     "text": [
      "Empty DataFrame\n",
      "Columns: [Country, Year, Status, Lifeexpectancy, AdultMortality, infantdeaths, Alcohol, percentageexpenditure, HepatitisB, Measles, BMI, under-fivedeaths, Polio, Totalexpenditure, Diphtheria, HIV/AIDS, GDP, Population, thinness1-19years, thinness5-9years, Incomecompositionofresources, Schooling]\n",
      "Index: []\n",
      "\n",
      "[0 rows x 22 columns]\n"
     ]
    }
   ],
   "source": [
    "duplicateRows = Life_Expectancy[Life_Expectancy.duplicated()]\n",
    "print(duplicateRows)"
   ]
  },
  {
   "cell_type": "markdown",
   "id": "47c82b96-ec42-4a4d-9d8b-86e6e8e05043",
   "metadata": {},
   "source": [
    "**SUMMARY OF CATEGORICAL VARIABLES**"
   ]
  },
  {
   "cell_type": "code",
   "execution_count": 13,
   "id": "d28bd2f1-0a93-4865-836c-e0c703f46491",
   "metadata": {},
   "outputs": [
    {
     "data": {
      "image/png": "[encoded data removed]",
      "text/plain": [
       "<Figure size 432x288 with 1 Axes>"
      ]
     },
     "metadata": {},
     "output_type": "display_data"
    }
   ],
   "source": [
    "Life_Expectancy.Status.value_counts().plot(kind='pie', autopct='%.2f')\n",
    "plt.title('Country Status Pie Chart')\n",
    "plt.ylabel('')\n",
    "plt.show()"
   ]
  },
  {
   "cell_type": "code",
   "execution_count": 14,
   "id": "8e6a0b45-2c18-44b5-970d-2bbd46dc0849",
   "metadata": {},
   "outputs": [
    {
     "name": "stdout",
     "output_type": "stream",
     "text": [
      "Afghanistan                                      16\n",
      "Peru                                             16\n",
      "Nicaragua                                        16\n",
      "Niger                                            16\n",
      "Nigeria                                          16\n",
      "Norway                                           16\n",
      "Oman                                             16\n",
      "Pakistan                                         16\n",
      "Panama                                           16\n",
      "PapuaNewGuinea                                   16\n",
      "Paraguay                                         16\n",
      "Philippines                                      16\n",
      "Lebanon                                          16\n",
      "Poland                                           16\n",
      "Portugal                                         16\n",
      "Qatar                                            16\n",
      "RepublicofKorea                                  16\n",
      "RepublicofMoldova                                16\n",
      "Romania                                          16\n",
      "RussianFederation                                16\n",
      "Rwanda                                           16\n",
      "SaintLucia                                       16\n",
      "NewZealand                                       16\n",
      "Netherlands                                      16\n",
      "Nepal                                            16\n",
      "Namibia                                          16\n",
      "Liberia                                          16\n",
      "Albania                                          16\n",
      "Lithuania                                        16\n",
      "Luxembourg                                       16\n",
      "Madagascar                                       16\n",
      "Malawi                                           16\n",
      "Malaysia                                         16\n",
      "Maldives                                         16\n",
      "Mali                                             16\n",
      "Malta                                            16\n",
      "Mauritania                                       16\n",
      "Mauritius                                        16\n",
      "Mexico                                           16\n",
      "Micronesia(FederatedStatesof)                    16\n",
      "Mongolia                                         16\n",
      "Montenegro                                       16\n",
      "Morocco                                          16\n",
      "Mozambique                                       16\n",
      "Myanmar                                          16\n",
      "SaintVincentandtheGrenadines                     16\n",
      "Samoa                                            16\n",
      "SaoTomeandPrincipe                               16\n",
      "TheformerYugoslavrepublicofMacedonia             16\n",
      "Togo                                             16\n",
      "Tonga                                            16\n",
      "TrinidadandTobago                                16\n",
      "Tunisia                                          16\n",
      "Turkey                                           16\n",
      "Turkmenistan                                     16\n",
      "Uganda                                           16\n",
      "Ukraine                                          16\n",
      "UnitedArabEmirates                               16\n",
      "UnitedKingdomofGreatBritainandNorthernIreland    16\n",
      "UnitedRepublicofTanzania                         16\n",
      "UnitedStatesofAmerica                            16\n",
      "Uruguay                                          16\n",
      "Uzbekistan                                       16\n",
      "Vanuatu                                          16\n",
      "Venezuela(BolivarianRepublicof)                  16\n",
      "VietNam                                          16\n",
      "Yemen                                            16\n",
      "Zambia                                           16\n",
      "Timor-Leste                                      16\n",
      "Thailand                                         16\n",
      "SaudiArabia                                      16\n",
      "Tajikistan                                       16\n",
      "Senegal                                          16\n",
      "Serbia                                           16\n",
      "Seychelles                                       16\n",
      "SierraLeone                                      16\n",
      "Singapore                                        16\n",
      "Slovakia                                         16\n",
      "Slovenia                                         16\n",
      "SolomonIslands                                   16\n",
      "Somalia                                          16\n",
      "SouthAfrica                                      16\n",
      "SouthSudan                                       16\n",
      "Spain                                            16\n",
      "SriLanka                                         16\n",
      "Sudan                                            16\n",
      "Suriname                                         16\n",
      "Swaziland                                        16\n",
      "Sweden                                           16\n",
      "Switzerland                                      16\n",
      "SyrianArabRepublic                               16\n",
      "Lesotho                                          16\n",
      "Libya                                            16\n",
      "Latvia                                           16\n",
      "China                                            16\n",
      "Burundi                                          16\n",
      "Côted'Ivoire                                     16\n",
      "CaboVerde                                        16\n",
      "Cambodia                                         16\n",
      "Cameroon                                         16\n",
      "Canada                                           16\n",
      "CentralAfricanRepublic                           16\n",
      "Chad                                             16\n",
      "Chile                                            16\n",
      "Colombia                                         16\n",
      "Bulgaria                                         16\n",
      "Comoros                                          16\n",
      "Congo                                            16\n",
      "CostaRica                                        16\n",
      "Croatia                                          16\n",
      "Cuba                                             16\n",
      "Cyprus                                           16\n",
      "Czechia                                          16\n",
      "DemocraticPeople'sRepublicofKorea                16\n",
      "DemocraticRepublicoftheCongo                     16\n",
      "BurkinaFaso                                      16\n",
      "BruneiDarussalam                                 16\n",
      "LaoPeople'sDemocraticRepublic                    16\n",
      "Bahrain                                          16\n",
      "Algeria                                          16\n",
      "Angola                                           16\n",
      "AntiguaandBarbuda                                16\n",
      "Argentina                                        16\n",
      "Armenia                                          16\n",
      "Australia                                        16\n",
      "Austria                                          16\n",
      "Azerbaijan                                       16\n",
      "Bahamas                                          16\n",
      "Bangladesh                                       16\n",
      "Brazil                                           16\n",
      "Barbados                                         16\n",
      "Belarus                                          16\n",
      "Belgium                                          16\n",
      "Belize                                           16\n",
      "Benin                                            16\n",
      "Bhutan                                           16\n",
      "Bolivia(PlurinationalStateof)                    16\n",
      "BosniaandHerzegovina                             16\n",
      "Botswana                                         16\n",
      "Denmark                                          16\n",
      "Djibouti                                         16\n",
      "Guinea-Bissau                                    16\n",
      "Ireland                                          16\n",
      "Guyana                                           16\n",
      "Haiti                                            16\n",
      "Honduras                                         16\n",
      "Hungary                                          16\n",
      "Iceland                                          16\n",
      "India                                            16\n",
      "Indonesia                                        16\n",
      "Iran(IslamicRepublicof)                          16\n",
      "Iraq                                             16\n",
      "Israel                                           16\n",
      "Guatemala                                        16\n",
      "Italy                                            16\n",
      "Jamaica                                          16\n",
      "Japan                                            16\n",
      "Jordan                                           16\n",
      "Kazakhstan                                       16\n",
      "Kenya                                            16\n",
      "Kiribati                                         16\n",
      "Kuwait                                           16\n",
      "Kyrgyzstan                                       16\n",
      "Guinea                                           16\n",
      "Zimbabwe                                         16\n",
      "Grenada                                          16\n",
      "France                                           16\n",
      "DominicanRepublic                                16\n",
      "Ecuador                                          16\n",
      "Egypt                                            16\n",
      "ElSalvador                                       16\n",
      "EquatorialGuinea                                 16\n",
      "Eritrea                                          16\n",
      "Estonia                                          16\n",
      "Ethiopia                                         16\n",
      "Fiji                                             16\n",
      "Greece                                           16\n",
      "Finland                                          16\n",
      "Gabon                                            16\n",
      "Gambia                                           16\n",
      "Georgia                                          16\n",
      "Germany                                          16\n",
      "Ghana                                            16\n",
      "Tuvalu                                            1\n",
      "CookIslands                                       1\n",
      "MarshallIslands                                   1\n",
      "Monaco                                            1\n",
      "Palau                                             1\n",
      "Niue                                              1\n",
      "SanMarino                                         1\n",
      "Nauru                                             1\n",
      "SaintKittsandNevis                                1\n",
      "Dominica                                          1\n",
      "Name: Country, dtype: int64\n"
     ]
    }
   ],
   "source": [
    "pd.set_option(\"display.max_rows\", None)\n",
    "print(Life_Expectancy[\"Country\"].value_counts())"
   ]
  },
  {
   "cell_type": "markdown",
   "id": "3571c2be-33b2-4a7d-8c9d-ae835f195b24",
   "metadata": {},
   "source": [
    "#### Observations\n",
    "From the information above, the data contains `2938 rows/observations` and `22 columns/variables`. The first observation is from Afghanistan and the last from Zimbabwe. The data has a combination of `Numerical and Categorical` data. \n",
    "\n",
    "`There are also some missing data` we need to investigate and treat. These can be found in the columns; Population, HepatitisB, GDP, Totalexpenditure, Alcohol, Incomecompositionofresources, Schooling, thinness5-9years, BMI, Polio,\n",
    "Diphtheria, Lifeexpectancy and AdultMortality\n",
    "\n",
    "`The columns with outliers are;` 'Lifeexpectancy', 'AdultMortality','infantdeaths', 'percentageexpenditure', 'HepatitisB','Measles', 'under-fivedeaths', 'Polio', 'Totalexpenditure','Diphtheria', 'HIV/AIDS', 'GDP', 'Population', 'thinness1-19years', 'thinness5-9years', 'Incomecompositionofresources', 'Schooling'. This can be observed from the `box plots` and also the `standard deviations` in the summarry statistics.\n",
    "\n",
    "Thankfully, there are `no duplicates` in the data\n",
    "\n",
    "In terms of correlation, `Adult Mortality and HIV/AIDS` have a strong `negative` relationship with life expectancy while BMI, `Income composition of resources and schooling` have a strong positive relationship with life expectancy.\n",
    "\n",
    "The data is composed of 82.57 developing countries and 17.43 developing countries.\n"
   ]
  },
  {
   "cell_type": "markdown",
   "id": "9059417c-20da-4bff-a634-ce89a96ff192",
   "metadata": {},
   "source": [
    "### STEP 2: DATA CLEANING"
   ]
  },
  {
   "cell_type": "markdown",
   "id": "e27fb790-9c25-4ea3-aa9c-940a7493d812",
   "metadata": {},
   "source": [
    "#### Dealing with Missing Values\n",
    "\n",
    "Interpolation is a mathematical method that adjusts a function to your data and uses this function to extrapolate the missing data. The most simple type of interpolation is the linear interpolation, that makes a mean between the values before the missing data and the value after. [[2]](#ref2)\n",
    "\n",
    "Linear Interpolation simply means to estimate a missing value by connecting dots in a straight line in increasing order. In short, It estimates the unknown value in the same increasing order from previous values. Interpolation in most cases supposed to be the best technique to fill missing values. [[3]](#ref3)\n",
    "\n",
    "I find this method more plausible for the data because the treated observations will be more likely closer to a typical one for the country in question."
   ]
  },
  {
   "cell_type": "code",
   "execution_count": 15,
   "id": "0905dc73-1528-40a0-a789-52c3813a10d6",
   "metadata": {},
   "outputs": [],
   "source": [
    "Life_Expectancy1 = Life_Expectancy.interpolate(method = 'linear', limit_direction = 'forward')"
   ]
  },
  {
   "cell_type": "code",
   "execution_count": 16,
   "id": "f22638cc-db30-42c1-b7bf-72914a04c299",
   "metadata": {},
   "outputs": [
    {
     "name": "stdout",
     "output_type": "stream",
     "text": [
      "<class 'pandas.core.frame.DataFrame'>\n",
      "RangeIndex: 2938 entries, 0 to 2937\n",
      "Data columns (total 22 columns):\n",
      " #   Column                        Non-Null Count  Dtype  \n",
      "---  ------                        --------------  -----  \n",
      " 0   Country                       2938 non-null   object \n",
      " 1   Year                          2938 non-null   int64  \n",
      " 2   Status                        2938 non-null   object \n",
      " 3   Lifeexpectancy                2938 non-null   float64\n",
      " 4   AdultMortality                2938 non-null   float64\n",
      " 5   infantdeaths                  2938 non-null   int64  \n",
      " 6   Alcohol                       2938 non-null   float64\n",
      " 7   percentageexpenditure         2938 non-null   float64\n",
      " 8   HepatitisB                    2938 non-null   float64\n",
      " 9   Measles                       2938 non-null   int64  \n",
      " 10  BMI                           2938 non-null   float64\n",
      " 11  under-fivedeaths              2938 non-null   int64  \n",
      " 12  Polio                         2938 non-null   float64\n",
      " 13  Totalexpenditure              2938 non-null   float64\n",
      " 14  Diphtheria                    2938 non-null   float64\n",
      " 15  HIV/AIDS                      2938 non-null   float64\n",
      " 16  GDP                           2938 non-null   float64\n",
      " 17  Population                    2938 non-null   float64\n",
      " 18  thinness1-19years             2938 non-null   float64\n",
      " 19  thinness5-9years              2938 non-null   float64\n",
      " 20  Incomecompositionofresources  2938 non-null   float64\n",
      " 21  Schooling                     2938 non-null   float64\n",
      "dtypes: float64(16), int64(4), object(2)\n",
      "memory usage: 505.1+ KB\n"
     ]
    }
   ],
   "source": [
    "Life_Expectancy1.info()"
   ]
  },
  {
   "cell_type": "markdown",
   "id": "9ec7cefb-e99b-42fb-bb96-a1d7b15bec5e",
   "metadata": {},
   "source": [
    "`From the above given information, it is clear that we no longer have missing values in our data.`"
   ]
  },
  {
   "cell_type": "markdown",
   "id": "0b727dfc-fa54-4378-8429-722c8cd93490",
   "metadata": {},
   "source": [
    "#### Dealing with Outliers\n",
    "\n",
    "`WINSORIZATION`\n",
    "\n",
    "To winsorize data means to set extreme outliers equal to a specified percentile of the data. Winsorization is a method that initially replaces the smallest and largest values with the observations closest to them. [[4]](#ref4) The nature of the data makes this a more plausible approach to the data. To do this, I will make use of the information from the boxplot to locate where outliers occur and then I will find out the percentage of outliers in each variable to target the process."
   ]
  },
  {
   "cell_type": "markdown",
   "id": "941e1e23-9284-4183-8583-5d2e63c51528",
   "metadata": {},
   "source": []
  },
  {
   "cell_type": "code",
   "execution_count": 17,
   "id": "2619537c-195f-4592-bd39-5f63727bf9b9",
   "metadata": {},
   "outputs": [],
   "source": [
    "def outlier_count(col, data=Life_Expectancy1):\n",
    "    print(15*'-' + col + 15*'-')\n",
    "    q75, q25 = np.percentile(data[col], [75, 25])\n",
    "    iqr = q75 - q25\n",
    "    min_val = q25 - (iqr*1.5)\n",
    "    max_val = q75 + (iqr*1.5)\n",
    "    outlier_count = len(np.where((data[col] > max_val) | (data[col] < min_val))[0])\n",
    "    outlier_percent = round(outlier_count/len(data[col])*100, 2)\n",
    "    print('Number of outliers: {}'.format(outlier_count))\n",
    "    print('Percent of data that is outlier: {}%'.format(outlier_percent))"
   ]
  },
  {
   "cell_type": "code",
   "execution_count": 18,
   "id": "8c71fa15-a918-47a7-b4bb-93e64fec6c29",
   "metadata": {},
   "outputs": [
    {
     "name": "stdout",
     "output_type": "stream",
     "text": [
      "---------------Lifeexpectancy---------------\n",
      "Number of outliers: 12\n",
      "Percent of data that is outlier: 0.41%\n",
      "---------------AdultMortality---------------\n",
      "Number of outliers: 82\n",
      "Percent of data that is outlier: 2.79%\n",
      "---------------infantdeaths---------------\n",
      "Number of outliers: 315\n",
      "Percent of data that is outlier: 10.72%\n",
      "---------------Alcohol---------------\n",
      "Number of outliers: 1\n",
      "Percent of data that is outlier: 0.03%\n",
      "---------------percentageexpenditure---------------\n",
      "Number of outliers: 389\n",
      "Percent of data that is outlier: 13.24%\n",
      "---------------HepatitisB---------------\n",
      "Number of outliers: 248\n",
      "Percent of data that is outlier: 8.44%\n",
      "---------------Measles---------------\n",
      "Number of outliers: 542\n",
      "Percent of data that is outlier: 18.45%\n",
      "---------------BMI---------------\n",
      "Number of outliers: 0\n",
      "Percent of data that is outlier: 0.0%\n",
      "---------------under-fivedeaths---------------\n",
      "Number of outliers: 394\n",
      "Percent of data that is outlier: 13.41%\n",
      "---------------Polio---------------\n",
      "Number of outliers: 282\n",
      "Percent of data that is outlier: 9.6%\n",
      "---------------Totalexpenditure---------------\n",
      "Number of outliers: 35\n",
      "Percent of data that is outlier: 1.19%\n",
      "---------------Diphtheria---------------\n",
      "Number of outliers: 301\n",
      "Percent of data that is outlier: 10.25%\n",
      "---------------HIV/AIDS---------------\n",
      "Number of outliers: 542\n",
      "Percent of data that is outlier: 18.45%\n",
      "---------------GDP---------------\n",
      "Number of outliers: 348\n",
      "Percent of data that is outlier: 11.84%\n",
      "---------------Population---------------\n",
      "Number of outliers: 364\n",
      "Percent of data that is outlier: 12.39%\n",
      "---------------thinness1-19years---------------\n",
      "Number of outliers: 89\n",
      "Percent of data that is outlier: 3.03%\n",
      "---------------thinness5-9years---------------\n",
      "Number of outliers: 97\n",
      "Percent of data that is outlier: 3.3%\n",
      "---------------Incomecompositionofresources---------------\n",
      "Number of outliers: 130\n",
      "Percent of data that is outlier: 4.42%\n",
      "---------------Schooling---------------\n",
      "Number of outliers: 53\n",
      "Percent of data that is outlier: 1.8%\n"
     ]
    }
   ],
   "source": [
    "cont_vars = list(Life_Expectancy1.columns)[3:]\n",
    "for col in cont_vars:\n",
    "    outlier_count(col)"
   ]
  },
  {
   "cell_type": "code",
   "execution_count": 19,
   "id": "8414579d-dc3a-404c-bebf-3f7b0cbe1778",
   "metadata": {},
   "outputs": [],
   "source": [
    "Life_Expectancy1['Lifeexpectancy'] = winsorize(Life_Expectancy1['Lifeexpectancy'] , limits=[0.01, 0])\n",
    "Life_Expectancy1['AdultMortality'] = winsorize(Life_Expectancy1['AdultMortality'] , limits=[0, 0.03])\n",
    "Life_Expectancy1['infantdeaths'] = winsorize(Life_Expectancy1['infantdeaths'] , limits=[0, 0.11])\n",
    "Life_Expectancy1['Alcohol'] = winsorize(Life_Expectancy1['Alcohol'] , limits=[0, 0.003])\n",
    "Life_Expectancy1['percentageexpenditure'] = winsorize(Life_Expectancy1['percentageexpenditure'] , limits=[0, 0.2])\n",
    "Life_Expectancy1['HepatitisB'] = winsorize(Life_Expectancy1['HepatitisB'] , limits=[0.09, 0])\n",
    "Life_Expectancy1['Measles'] = winsorize(Life_Expectancy1['Measles'] , limits=[0, 0.2])\n",
    "Life_Expectancy1['under-fivedeaths'] = winsorize(Life_Expectancy1['under-fivedeaths'] , limits=[0, 0.14])\n",
    "Life_Expectancy1['Polio'] = winsorize(Life_Expectancy1['Polio'] , limits=[0.1, 0])\n",
    "Life_Expectancy1['Totalexpenditure'] = winsorize(Life_Expectancy1['Totalexpenditure'] , limits=[0, 0.012])\n",
    "Life_Expectancy1['Diphtheria'] = winsorize(Life_Expectancy1['Diphtheria'] , limits=[0.103, 0])\n",
    "Life_Expectancy1['HIV/AIDS'] = winsorize(Life_Expectancy1['HIV/AIDS'] , limits=[0, 0.2])\n",
    "Life_Expectancy1['GDP'] = winsorize(Life_Expectancy1['GDP'] , limits=[0, 0.12])\n",
    "Life_Expectancy1['Population'] = winsorize(Life_Expectancy1['Population'] , limits=[0, 0.13])\n",
    "Life_Expectancy1['thinness1-19years'] = winsorize(Life_Expectancy1['thinness1-19years'] , limits=[0, 0.031])\n",
    "Life_Expectancy1['thinness5-9years'] = winsorize(Life_Expectancy1['thinness5-9years'] , limits=[0, 0.034])\n",
    "Life_Expectancy1['Incomecompositionofresources'] = winsorize(Life_Expectancy1['Incomecompositionofresources'] , limits=[0.0443, 0])\n",
    "Life_Expectancy1['Schooling'] = winsorize(Life_Expectancy1['Schooling'] , limits=[0.018, 0.008])"
   ]
  },
  {
   "cell_type": "code",
   "execution_count": 20,
   "id": "929f930f-ce32-41a5-8aee-969f6effcab6",
   "metadata": {},
   "outputs": [],
   "source": [
    "df2=Life_Expectancy1.select_dtypes(exclude=['object'])"
   ]
  },
  {
   "cell_type": "code",
   "execution_count": 21,
   "id": "cb2d30c7-5291-46e8-b093-3592e529c719",
   "metadata": {},
   "outputs": [
    {
     "data": {
      "image/png": "[encoded data removed]",
      "text/plain": [
       "<Figure size 1080x2880 with 40 Axes>"
      ]
     },
     "metadata": {
      "needs_background": "light"
     },
     "output_type": "display_data"
    }
   ],
   "source": [
    "cont_vars = list(df2.columns)[:]\n",
    "def outliers_visual(data):\n",
    "    plt.figure(figsize=(15, 40))\n",
    "    i = 0\n",
    "    for col in cont_vars:\n",
    "        i += 1\n",
    "        plt.subplot(10, 4, i)\n",
    "        plt.boxplot(data[col])\n",
    "        plt.title('{} boxplot'.format(col))\n",
    "        i += 1\n",
    "        plt.subplot(10, 4, i)\n",
    "        plt.hist(data[col])\n",
    "        plt.title('{} histogram'.format(col))\n",
    "    plt.show()\n",
    "outliers_visual(df2)"
   ]
  },
  {
   "cell_type": "markdown",
   "id": "7072df66-53be-4cd3-a790-fda786b45aa3",
   "metadata": {},
   "source": [
    "At this stage, the data cleaning process has come to a successful end. \n",
    "The data can now be used for `explanatory and predictive analysis.`"
   ]
  },
  {
   "cell_type": "markdown",
   "id": "7daa2b50-8e4b-4b47-9e2a-b3d960e5aede",
   "metadata": {},
   "source": [
    "#### Dealing With Categorical Data"
   ]
  },
  {
   "cell_type": "code",
   "execution_count": 22,
   "id": "4ce8b5b7-6039-4ba4-8fee-eff9d227fca7",
   "metadata": {},
   "outputs": [
    {
     "data": {
      "text/html": [
       "<div>\n",
       "<style scoped>\n",
       "    .dataframe tbody tr th:only-of-type {\n",
       "        vertical-align: middle;\n",
       "    }\n",
       "\n",
       "    .dataframe tbody tr th {\n",
       "        vertical-align: top;\n",
       "    }\n",
       "\n",
       "    .dataframe thead th {\n",
       "        text-align: right;\n",
       "    }\n",
       "</style>\n",
       "<table border=\"1\" class=\"dataframe\">\n",
       "  <thead>\n",
       "    <tr style=\"text-align: right;\">\n",
       "      <th></th>\n",
       "      <th>Country</th>\n",
       "      <th>Year</th>\n",
       "      <th>Status</th>\n",
       "      <th>Lifeexpectancy</th>\n",
       "      <th>AdultMortality</th>\n",
       "      <th>infantdeaths</th>\n",
       "      <th>Alcohol</th>\n",
       "      <th>percentageexpenditure</th>\n",
       "      <th>HepatitisB</th>\n",
       "      <th>Measles</th>\n",
       "      <th>...</th>\n",
       "      <th>Polio</th>\n",
       "      <th>Totalexpenditure</th>\n",
       "      <th>Diphtheria</th>\n",
       "      <th>HIV/AIDS</th>\n",
       "      <th>GDP</th>\n",
       "      <th>Population</th>\n",
       "      <th>thinness1-19years</th>\n",
       "      <th>thinness5-9years</th>\n",
       "      <th>Incomecompositionofresources</th>\n",
       "      <th>Schooling</th>\n",
       "    </tr>\n",
       "  </thead>\n",
       "  <tbody>\n",
       "    <tr>\n",
       "      <th>624</th>\n",
       "      <td>CookIslands</td>\n",
       "      <td>2013</td>\n",
       "      <td>Developing</td>\n",
       "      <td>66.25</td>\n",
       "      <td>255.5</td>\n",
       "      <td>0</td>\n",
       "      <td>0.01</td>\n",
       "      <td>0.000000</td>\n",
       "      <td>98.0</td>\n",
       "      <td>0</td>\n",
       "      <td>...</td>\n",
       "      <td>98.0</td>\n",
       "      <td>3.58</td>\n",
       "      <td>98.0</td>\n",
       "      <td>0.1</td>\n",
       "      <td>1103.556626</td>\n",
       "      <td>4.908801e+05</td>\n",
       "      <td>0.10</td>\n",
       "      <td>0.10</td>\n",
       "      <td>0.6310</td>\n",
       "      <td>12.00</td>\n",
       "    </tr>\n",
       "    <tr>\n",
       "      <th>769</th>\n",
       "      <td>Dominica</td>\n",
       "      <td>2013</td>\n",
       "      <td>Developing</td>\n",
       "      <td>65.65</td>\n",
       "      <td>238.5</td>\n",
       "      <td>0</td>\n",
       "      <td>0.01</td>\n",
       "      <td>11.419555</td>\n",
       "      <td>96.0</td>\n",
       "      <td>0</td>\n",
       "      <td>...</td>\n",
       "      <td>96.0</td>\n",
       "      <td>5.58</td>\n",
       "      <td>96.0</td>\n",
       "      <td>0.1</td>\n",
       "      <td>722.756650</td>\n",
       "      <td>1.122989e+06</td>\n",
       "      <td>2.70</td>\n",
       "      <td>2.60</td>\n",
       "      <td>0.7210</td>\n",
       "      <td>12.70</td>\n",
       "    </tr>\n",
       "    <tr>\n",
       "      <th>1650</th>\n",
       "      <td>MarshallIslands</td>\n",
       "      <td>2013</td>\n",
       "      <td>Developing</td>\n",
       "      <td>70.30</td>\n",
       "      <td>16.5</td>\n",
       "      <td>0</td>\n",
       "      <td>0.01</td>\n",
       "      <td>623.910050</td>\n",
       "      <td>36.0</td>\n",
       "      <td>0</td>\n",
       "      <td>...</td>\n",
       "      <td>79.0</td>\n",
       "      <td>12.11</td>\n",
       "      <td>79.0</td>\n",
       "      <td>0.1</td>\n",
       "      <td>3617.752354</td>\n",
       "      <td>2.093164e+06</td>\n",
       "      <td>0.10</td>\n",
       "      <td>0.10</td>\n",
       "      <td>0.6460</td>\n",
       "      <td>4.30</td>\n",
       "    </tr>\n",
       "    <tr>\n",
       "      <th>1715</th>\n",
       "      <td>Monaco</td>\n",
       "      <td>2013</td>\n",
       "      <td>Developing</td>\n",
       "      <td>67.90</td>\n",
       "      <td>203.5</td>\n",
       "      <td>0</td>\n",
       "      <td>0.01</td>\n",
       "      <td>0.000000</td>\n",
       "      <td>99.0</td>\n",
       "      <td>0</td>\n",
       "      <td>...</td>\n",
       "      <td>99.0</td>\n",
       "      <td>4.30</td>\n",
       "      <td>99.0</td>\n",
       "      <td>0.1</td>\n",
       "      <td>3762.447079</td>\n",
       "      <td>3.462588e+06</td>\n",
       "      <td>1.25</td>\n",
       "      <td>1.30</td>\n",
       "      <td>0.3665</td>\n",
       "      <td>7.40</td>\n",
       "    </tr>\n",
       "    <tr>\n",
       "      <th>1812</th>\n",
       "      <td>Nauru</td>\n",
       "      <td>2013</td>\n",
       "      <td>Developing</td>\n",
       "      <td>63.30</td>\n",
       "      <td>103.0</td>\n",
       "      <td>0</td>\n",
       "      <td>0.01</td>\n",
       "      <td>15.606596</td>\n",
       "      <td>87.0</td>\n",
       "      <td>0</td>\n",
       "      <td>...</td>\n",
       "      <td>87.0</td>\n",
       "      <td>4.65</td>\n",
       "      <td>87.0</td>\n",
       "      <td>0.1</td>\n",
       "      <td>136.183210</td>\n",
       "      <td>1.527777e+07</td>\n",
       "      <td>0.10</td>\n",
       "      <td>0.10</td>\n",
       "      <td>0.5570</td>\n",
       "      <td>9.60</td>\n",
       "    </tr>\n",
       "    <tr>\n",
       "      <th>1909</th>\n",
       "      <td>Niue</td>\n",
       "      <td>2013</td>\n",
       "      <td>Developing</td>\n",
       "      <td>64.45</td>\n",
       "      <td>52.0</td>\n",
       "      <td>0</td>\n",
       "      <td>0.01</td>\n",
       "      <td>0.000000</td>\n",
       "      <td>99.0</td>\n",
       "      <td>0</td>\n",
       "      <td>...</td>\n",
       "      <td>99.0</td>\n",
       "      <td>7.20</td>\n",
       "      <td>99.0</td>\n",
       "      <td>0.1</td>\n",
       "      <td>3917.182933</td>\n",
       "      <td>8.711980e+05</td>\n",
       "      <td>0.10</td>\n",
       "      <td>0.10</td>\n",
       "      <td>0.4740</td>\n",
       "      <td>12.65</td>\n",
       "    </tr>\n",
       "    <tr>\n",
       "      <th>1958</th>\n",
       "      <td>Palau</td>\n",
       "      <td>2013</td>\n",
       "      <td>Developing</td>\n",
       "      <td>70.30</td>\n",
       "      <td>68.5</td>\n",
       "      <td>0</td>\n",
       "      <td>2.26</td>\n",
       "      <td>344.690631</td>\n",
       "      <td>99.0</td>\n",
       "      <td>0</td>\n",
       "      <td>...</td>\n",
       "      <td>99.0</td>\n",
       "      <td>9.27</td>\n",
       "      <td>99.0</td>\n",
       "      <td>0.1</td>\n",
       "      <td>1932.122370</td>\n",
       "      <td>2.920000e+02</td>\n",
       "      <td>0.10</td>\n",
       "      <td>0.10</td>\n",
       "      <td>0.7790</td>\n",
       "      <td>14.20</td>\n",
       "    </tr>\n",
       "    <tr>\n",
       "      <th>2167</th>\n",
       "      <td>SaintKittsandNevis</td>\n",
       "      <td>2013</td>\n",
       "      <td>Developing</td>\n",
       "      <td>61.75</td>\n",
       "      <td>282.0</td>\n",
       "      <td>0</td>\n",
       "      <td>8.54</td>\n",
       "      <td>0.000000</td>\n",
       "      <td>97.0</td>\n",
       "      <td>0</td>\n",
       "      <td>...</td>\n",
       "      <td>96.0</td>\n",
       "      <td>6.14</td>\n",
       "      <td>96.0</td>\n",
       "      <td>0.1</td>\n",
       "      <td>331.854826</td>\n",
       "      <td>8.584318e+04</td>\n",
       "      <td>3.70</td>\n",
       "      <td>3.60</td>\n",
       "      <td>0.7490</td>\n",
       "      <td>13.40</td>\n",
       "    </tr>\n",
       "    <tr>\n",
       "      <th>2216</th>\n",
       "      <td>SanMarino</td>\n",
       "      <td>2013</td>\n",
       "      <td>Developing</td>\n",
       "      <td>69.75</td>\n",
       "      <td>18.5</td>\n",
       "      <td>0</td>\n",
       "      <td>0.01</td>\n",
       "      <td>0.000000</td>\n",
       "      <td>69.0</td>\n",
       "      <td>0</td>\n",
       "      <td>...</td>\n",
       "      <td>69.0</td>\n",
       "      <td>6.50</td>\n",
       "      <td>69.0</td>\n",
       "      <td>0.1</td>\n",
       "      <td>889.664430</td>\n",
       "      <td>1.065070e+05</td>\n",
       "      <td>2.85</td>\n",
       "      <td>2.75</td>\n",
       "      <td>0.6025</td>\n",
       "      <td>15.10</td>\n",
       "    </tr>\n",
       "    <tr>\n",
       "      <th>2713</th>\n",
       "      <td>Tuvalu</td>\n",
       "      <td>2013</td>\n",
       "      <td>Developing</td>\n",
       "      <td>63.05</td>\n",
       "      <td>257.5</td>\n",
       "      <td>0</td>\n",
       "      <td>0.01</td>\n",
       "      <td>78.281203</td>\n",
       "      <td>36.0</td>\n",
       "      <td>0</td>\n",
       "      <td>...</td>\n",
       "      <td>52.0</td>\n",
       "      <td>12.11</td>\n",
       "      <td>51.0</td>\n",
       "      <td>0.1</td>\n",
       "      <td>3542.135890</td>\n",
       "      <td>1.819000e+03</td>\n",
       "      <td>0.20</td>\n",
       "      <td>0.10</td>\n",
       "      <td>0.2440</td>\n",
       "      <td>4.30</td>\n",
       "    </tr>\n",
       "  </tbody>\n",
       "</table>\n",
       "<p>10 rows × 22 columns</p>\n",
       "</div>"
      ],
      "text/plain": [
       "                 Country  Year      Status  Lifeexpectancy  AdultMortality  \\\n",
       "624          CookIslands  2013  Developing           66.25           255.5   \n",
       "769             Dominica  2013  Developing           65.65           238.5   \n",
       "1650     MarshallIslands  2013  Developing           70.30            16.5   \n",
       "1715              Monaco  2013  Developing           67.90           203.5   \n",
       "1812               Nauru  2013  Developing           63.30           103.0   \n",
       "1909                Niue  2013  Developing           64.45            52.0   \n",
       "1958               Palau  2013  Developing           70.30            68.5   \n",
       "2167  SaintKittsandNevis  2013  Developing           61.75           282.0   \n",
       "2216           SanMarino  2013  Developing           69.75            18.5   \n",
       "2713              Tuvalu  2013  Developing           63.05           257.5   \n",
       "\n",
       "      infantdeaths  Alcohol  percentageexpenditure  HepatitisB  Measles  ...  \\\n",
       "624              0     0.01               0.000000        98.0        0  ...   \n",
       "769              0     0.01              11.419555        96.0        0  ...   \n",
       "1650             0     0.01             623.910050        36.0        0  ...   \n",
       "1715             0     0.01               0.000000        99.0        0  ...   \n",
       "1812             0     0.01              15.606596        87.0        0  ...   \n",
       "1909             0     0.01               0.000000        99.0        0  ...   \n",
       "1958             0     2.26             344.690631        99.0        0  ...   \n",
       "2167             0     8.54               0.000000        97.0        0  ...   \n",
       "2216             0     0.01               0.000000        69.0        0  ...   \n",
       "2713             0     0.01              78.281203        36.0        0  ...   \n",
       "\n",
       "      Polio  Totalexpenditure  Diphtheria  HIV/AIDS          GDP  \\\n",
       "624    98.0              3.58        98.0       0.1  1103.556626   \n",
       "769    96.0              5.58        96.0       0.1   722.756650   \n",
       "1650   79.0             12.11        79.0       0.1  3617.752354   \n",
       "1715   99.0              4.30        99.0       0.1  3762.447079   \n",
       "1812   87.0              4.65        87.0       0.1   136.183210   \n",
       "1909   99.0              7.20        99.0       0.1  3917.182933   \n",
       "1958   99.0              9.27        99.0       0.1  1932.122370   \n",
       "2167   96.0              6.14        96.0       0.1   331.854826   \n",
       "2216   69.0              6.50        69.0       0.1   889.664430   \n",
       "2713   52.0             12.11        51.0       0.1  3542.135890   \n",
       "\n",
       "        Population  thinness1-19years  thinness5-9years  \\\n",
       "624   4.908801e+05               0.10              0.10   \n",
       "769   1.122989e+06               2.70              2.60   \n",
       "1650  2.093164e+06               0.10              0.10   \n",
       "1715  3.462588e+06               1.25              1.30   \n",
       "1812  1.527777e+07               0.10              0.10   \n",
       "1909  8.711980e+05               0.10              0.10   \n",
       "1958  2.920000e+02               0.10              0.10   \n",
       "2167  8.584318e+04               3.70              3.60   \n",
       "2216  1.065070e+05               2.85              2.75   \n",
       "2713  1.819000e+03               0.20              0.10   \n",
       "\n",
       "      Incomecompositionofresources  Schooling  \n",
       "624                         0.6310      12.00  \n",
       "769                         0.7210      12.70  \n",
       "1650                        0.6460       4.30  \n",
       "1715                        0.3665       7.40  \n",
       "1812                        0.5570       9.60  \n",
       "1909                        0.4740      12.65  \n",
       "1958                        0.7790      14.20  \n",
       "2167                        0.7490      13.40  \n",
       "2216                        0.6025      15.10  \n",
       "2713                        0.2440       4.30  \n",
       "\n",
       "[10 rows x 22 columns]"
      ]
     },
     "execution_count": 22,
     "metadata": {},
     "output_type": "execute_result"
    }
   ],
   "source": [
    "#categories in the country column with only one representation\n",
    "anol=Life_Expectancy1.loc[(Life_Expectancy.Country.isin(['Tuvalu',\n",
    "                          'CookIslands',\n",
    "                          'MarshallIslands',\n",
    "                          'Monaco',\n",
    "                          'Palau',\n",
    "                          'Niue',\n",
    "                          'SanMarino',\n",
    "                          'Nauru',\n",
    "                          'SaintKittsandNevis',\"Dominica\"]))]\n",
    "\n",
    "anol"
   ]
  },
  {
   "cell_type": "code",
   "execution_count": 23,
   "id": "03b2d4a4-6ba4-4af4-b438-64233c15de64",
   "metadata": {},
   "outputs": [],
   "source": [
    "Life_Expectancy1.drop([624, 769,1650,1715, 1812, 1909, 1958,2167, 2216, 2713], axis=0, inplace=True)"
   ]
  },
  {
   "cell_type": "code",
   "execution_count": 24,
   "id": "e36266de-2701-4faf-ba42-ba1c9cb4991a",
   "metadata": {},
   "outputs": [
    {
     "name": "stdout",
     "output_type": "stream",
     "text": [
      "Gabon        16\n",
      "Gambia       16\n",
      "Georgia      16\n",
      "Germany      16\n",
      "Ghana        16\n",
      "Greece       16\n",
      "Grenada      16\n",
      "Guatemala    16\n",
      "Zimbabwe     16\n",
      "Name: Country, dtype: int64\n"
     ]
    }
   ],
   "source": [
    "pd.set_option(\"display.max_rows\", None)\n",
    "print(Life_Expectancy1[\"Country\"].value_counts().tail(9))"
   ]
  },
  {
   "cell_type": "code",
   "execution_count": 25,
   "id": "4c056b45-5dbc-4cb1-9634-847d5740a6e2",
   "metadata": {},
   "outputs": [
    {
     "name": "stdout",
     "output_type": "stream",
     "text": [
      "<class 'pandas.core.frame.DataFrame'>\n",
      "Int64Index: 2928 entries, 0 to 2937\n",
      "Data columns (total 22 columns):\n",
      " #   Column                        Non-Null Count  Dtype  \n",
      "---  ------                        --------------  -----  \n",
      " 0   Country                       2928 non-null   object \n",
      " 1   Year                          2928 non-null   int64  \n",
      " 2   Status                        2928 non-null   object \n",
      " 3   Lifeexpectancy                2928 non-null   float64\n",
      " 4   AdultMortality                2928 non-null   float64\n",
      " 5   infantdeaths                  2928 non-null   int64  \n",
      " 6   Alcohol                       2928 non-null   float64\n",
      " 7   percentageexpenditure         2928 non-null   float64\n",
      " 8   HepatitisB                    2928 non-null   float64\n",
      " 9   Measles                       2928 non-null   int64  \n",
      " 10  BMI                           2928 non-null   float64\n",
      " 11  under-fivedeaths              2928 non-null   int64  \n",
      " 12  Polio                         2928 non-null   float64\n",
      " 13  Totalexpenditure              2928 non-null   float64\n",
      " 14  Diphtheria                    2928 non-null   float64\n",
      " 15  HIV/AIDS                      2928 non-null   float64\n",
      " 16  GDP                           2928 non-null   float64\n",
      " 17  Population                    2928 non-null   float64\n",
      " 18  thinness1-19years             2928 non-null   float64\n",
      " 19  thinness5-9years              2928 non-null   float64\n",
      " 20  Incomecompositionofresources  2928 non-null   float64\n",
      " 21  Schooling                     2928 non-null   float64\n",
      "dtypes: float64(16), int64(4), object(2)\n",
      "memory usage: 526.1+ KB\n"
     ]
    }
   ],
   "source": [
    "Life_Expectancy1.info()"
   ]
  },
  {
   "cell_type": "code",
   "execution_count": 26,
   "id": "464e8412-7e80-418d-8350-0aa77de316fa",
   "metadata": {},
   "outputs": [],
   "source": [
    "filename='led_clean.xlsx'\n",
    "Life_Expectancy1.to_excel(filename)"
   ]
  },
  {
   "cell_type": "markdown",
   "id": "0c08ce95-1798-4e7e-aabd-20a7db263e4a",
   "metadata": {
    "tags": []
   },
   "source": [
    "## REFERENCES"
   ]
  },
  {
   "cell_type": "markdown",
   "id": "1640bca3-9453-48c1-8208-e15149ff1dad",
   "metadata": {},
   "source": [
    "`1`\n",
    "[Ziring, Steve. \"Markdown table for descriptions\". Kaggle, 2020, https://www.kaggle.com/datasets/kumarajarshi/life-expectancy-who/discussion/161876. Accessed 07 June 2022.]<a id='ref1'></a>\n",
    "\n",
    "\n",
    "\n",
    "`2`\n",
    "[Portell, Aleticia. \"What to do when data is missing?\". leportella.com, 19 Jan. 2019, https://leportella.com/missing-data/. Accessed 07 June 2022.]<a id='ref2'></a>\n",
    "\n",
    "\n",
    "`3`\n",
    "[Raghav, Agrawal. \"Interpolation – Power of Interpolation in Python to fill Missing Values\". Data Science Blogathon, 1 June. 2021,https://www.analyticsvidhya.com/blog/2021/06/power-of-interpolation-in-python-to-fill-missing-values/. Accessed 07 June 2022.]<a id='ref3'></a>\n",
    "\n",
    "`4`\n",
    "[Zach. \"How to Winsorize Data: Definition & Examples\". statology.org/, 1 June. 2021,https://www.statology.org/winsorize/. Accessed 09 June 2022.]<a id='ref3'></a>\n"
   ]
  },
  {
   "cell_type": "code",
   "execution_count": null,
   "id": "13b88b6d-86cc-417c-b90c-77758fb8d4b6",
   "metadata": {},
   "outputs": [],
   "source": []
  }
 ],
 "metadata": {
  "kernelspec": {
   "display_name": "Python 3 (ipykernel)",
   "language": "python",
   "name": "python3"
  },
  "language_info": {
   "codemirror_mode": {
    "name": "ipython",
    "version": 3
   },
   "file_extension": ".py",
   "mimetype": "text/x-python",
   "name": "python",
   "nbconvert_exporter": "python",
   "pygments_lexer": "ipython3",
   "version": "3.9.12"
  }
 },
 "nbformat": 4,
 "nbformat_minor": 5
}
