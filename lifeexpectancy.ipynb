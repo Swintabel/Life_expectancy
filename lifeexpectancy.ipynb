{
 "cells": [
  {
   "cell_type": "markdown",
   "metadata": {
    "tags": []
   },
   "source": [
    "# <center> GLOBAL LIFE EXPECTANCY - A DATA STORY\n",
    "\n",
    "<a href=\"https://www.shutterstock.com/search/life+stages\">\n",
    "  <img align=\"right\" width=\"500\" height=\"400\" src=\"https://image.shutterstock.com/image-vector/life-cycle-aging-process-vector-260nw-1417053860.jpg\">\n",
    "  \n",
    "\n",
    "\n",
    "\n",
    "    \n",
    "    \n",
    "    \n",
    "\n",
    ">**Project Owner:** Swintabel Agyei<br>\n",
    ">**Email:** swintabel95@gmail.com<br>\n",
    ">[**Github Profile** ](https://github.com/Swintabel) | [**LinkedIn Profile**](https://www.linkedin.com/in/swintabelagyei/)|\n",
    "**Data Source:** [Kaggle](https://www.kaggle.com/datasets/augustus0498/life-expectancy-who)<br>\n",
    "> Presentation on Tableau    \n",
    "\n",
    "## **INTRODUCTION**\n",
    "\n",
    "### BACKGROUND\n",
    "Life expectancy is a hypothetical measure of the average number of years a person is expected to live given some common factors affecting the individual at a particular year or time. The most common type of this measure is 'Life Expectancy at birth', the average number of years that a newborn could expect to live if he or she were to pass through life exposed to the sex- and age-specific death rates prevailing at the time of his or her birth, for a specific year, in a given country, territory, or geographic area. [[1]](#ref1)[[2]](#ref2) Generally, past studies suggest that developed countries tend to have a higher life expectancy compared to less developed countries.[[3]](#ref3) However, with the introduction of some immunization policies and evolving socio-economic factors over the years, it is important to find empirical evidence to answer questions on the country specific determining factors of life expectancy.\n",
    "    \n",
    "    \n",
    "\n",
    "### OBJECTIVE\n",
    "Living longer has been one of humanity’s greatest ambitions, and currently living more than 80 years is a realistic expectation in many countries. [[5]](#ref5) Several factors can lead to death, but good health policies are expected to be associated with higher life expectancy in any population. Health policies are perhaps not the only or most relevant driver of life expectancy but other factors such as; socio-economic status, lifestyle, unforseen disease outbreaks, amongst others may also influence a population's life expectancy on various levels.[[4]](#ref4) In 2019, life expectancy at birth reached 73.3 years globally but with a difference of around 16 years between high-income and low-income countries.[[6]](#ref6) Given the aforementioned background, this project seeks to investigate the following Questions;\n",
    "\n",
    "\n",
    "* Do Individual's lifestyle trends in a country affects life expectancy?\n",
    "* Do Health policies have a strong impact on life expectancy?\n",
    "* To what level does a country's economic status affect life expectancy of its population?\n",
    "* What other important factors also influence life expectancy?"
   ]
  },
  {
   "cell_type": "markdown",
   "metadata": {},
   "source": [
    "\n",
    "\n"
   ]
  },
  {
   "cell_type": "markdown",
   "metadata": {
    "tags": []
   },
   "source": [
    "### METHODOLOGY\n",
    "\n",
    "**ABOUT DATA**\n",
    "\n",
    "The Global Health Observatory (GHO) data repository under World Health Organization (WHO) keeps track of the health status as well as many other related factors for all countries. The datasets are made available to public for the purpose of health data analysis. The dataset related to life expectancy, health factors and socio-economic status for 193 countries has been collected from the same WHO data repository website and its corresponding economic data was collected from United Nation website. The data spans through 2000 to 2015.\n",
    "\n",
    "https://iris.paho.org/bitstream/handle/10665.2/54914/v45e1142021.pdf?sequence=1&isAllowed=y\n",
    "\n",
    "As a data science problem, the relevance of results depends on the quality of the data. Therefore, the data will be taken through some quality assessments and cleaning. Once the data the data is ready, some exploratory analysis will be done with summary statistics and visualizations to provide an overview on the patterns in the data. Where necessary further exploration of prevailing relationships will be done. When the exploration process is complete, the data will then go through some pre-processing for modeling. The chart below give a picture of the project steps.\n",
    "\n",
    "<img align=\"center\" width=\"650\" height=\"400\" src=\"https://dz2cdn1.dzone.com/storage/temp/13513518-datascience-problem-solving.png\">\n",
    "\n",
    "\n",
    ">Fig2.  unlocking the potential of Better Data Science workflow. [Big Data Zone](https://dzone.com/articles/how-to-manage-a-data-science-project-for-successfu)\n",
    "\n",
    "\n",
    "\n",
    "\n",
    "`Please note that this section of the project will focus more on the story of life expectancy through the data while the necessary data wrangling and cleaning process will be carried out in the` **DataQA.ipynb file**"
   ]
  },
  {
   "cell_type": "markdown",
   "metadata": {},
   "source": []
  },
  {
   "cell_type": "markdown",
   "metadata": {},
   "source": []
  },
  {
   "cell_type": "code",
   "execution_count": null,
   "metadata": {},
   "outputs": [],
   "source": []
  },
  {
   "cell_type": "code",
   "execution_count": null,
   "metadata": {},
   "outputs": [],
   "source": []
  },
  {
   "cell_type": "code",
   "execution_count": null,
   "metadata": {},
   "outputs": [],
   "source": []
  },
  {
   "cell_type": "code",
   "execution_count": 6,
   "metadata": {
    "tags": [
     "hide_code"
    ]
   },
   "outputs": [],
   "source": [
    "\n",
    "#%%html\n",
    "#<div class='tableauPlaceholder' id='viz1654590640012' style='position: relative'><noscript><a href='#'><img alt='HAPPINESS IN THE WORLD ' src='https:&#47;&#47;public.tableau.com&#47;static&#47;images&#47;WO&#47;WORLDSHAPPINESS&#47;WORLDSHAPPINESS&#47;1_rss.png' style='border: none' /></a></noscript><object class='tableauViz'  style='display:none;'><param name='host_url' value='https%3A%2F%2Fpublic.tableau.com%2F' /> <param name='embed_code_version' value='3' /> <param name='site_root' value='' /><param name='name' value='WORLDSHAPPINESS&#47;WORLDSHAPPINESS' /><param name='tabs' value='no' /><param name='toolbar' value='yes' /><param name='static_image' value='https:&#47;&#47;public.tableau.com&#47;static&#47;images&#47;WO&#47;WORLDSHAPPINESS&#47;WORLDSHAPPINESS&#47;1.png' /> <param name='animate_transition' value='yes' /><param name='display_static_image' value='yes' /><param name='display_spinner' value='yes' /><param name='display_overlay' value='yes' /><param name='display_count' value='yes' /><param name='language' value='en-US' /></object></div>                <script type='text/javascript'>                    var divElement = document.getElementById('viz1654590640012');                    var vizElement = divElement.getElementsByTagName('object')[0];                    if ( divElement.offsetWidth > 800 ) { vizElement.style.width='1150px';vizElement.style.height='627px';} else if ( divElement.offsetWidth > 500 ) { vizElement.style.width='1150px';vizElement.style.height='627px';} else { vizElement.style.width='100%';vizElement.style.height='1577px';}                     var scriptElement = document.createElement('script');                    scriptElement.src = 'https://public.tableau.com/javascripts/api/viz_v1.js';                    vizElement.parentNode.insertBefore(scriptElement, vizElement);                </script>"
   ]
  },
  {
   "cell_type": "markdown",
   "metadata": {},
   "source": [
    "`1`\n",
    "[Bezy, Judith Marie. \"life expectancy\". Encyclopedia Britannica, 11 Nov. 2021, https://www.britannica.com/science/life-expectancy. Accessed 18 May 2022.]<a id='ref1'></a>"
   ]
  },
  {
   "cell_type": "markdown",
   "metadata": {},
   "source": [
    "`2`[WHO. \"Life expectancy at birth (years)\". Indicator Metadata Registry List, https://www.who.int/data/gho/indicator-metadata-registry/imr-details/65. Accessed 18 May 2022.]<a id='ref2'></a>"
   ]
  },
  {
   "cell_type": "markdown",
   "metadata": {
    "tags": []
   },
   "source": [
    "`3`[Meyer, A.C., Drefahl, S., Ahlbom, A. et al. Trends in life expectancy: did the gap between the healthy and the ill widen or close?. BMC Med 18, 41 (2020). https://doi.org/10.1186/s12916-020-01514-z] <a id='ref3'></a>"
   ]
  },
  {
   "cell_type": "markdown",
   "metadata": {},
   "source": [
    "`4`[Hao, L., Xu, X., Dupre, M.E. et al. Adequate access to healthcare and added life expectancy among older adults in China. BMC Geriatr 20, 129 (2020). https://doi.org/10.1186/s12877-020-01524-9] <a id='ref4'></a>"
   ]
  },
  {
   "cell_type": "markdown",
   "metadata": {},
   "source": [
    "`5`[United Nations Department of Economic and Social Affairs. World population ageing 2019. New York: United Nations; 2020.] <a id='ref5'></a>"
   ]
  },
  {
   "cell_type": "markdown",
   "metadata": {},
   "source": [
    "`6` [Wang H, Abbas KM, Abbasifard M, Abbasi-Kangevari M, Abbastabar H, Abd-Allah F, et al. Global age-sex-specific fertility,\n",
    "mortality, healthy life expectancy (HALE), and population estimates in 204 countries and territories, 1950–2019: a comprehensive\n",
    "demographic analysis for the Global Burden of Disease Study 2019.\n",
    "Lancet. 2020;396(10258):1160–203.] <a id='ref6'></a>"
   ]
  },
  {
   "cell_type": "code",
   "execution_count": null,
   "metadata": {},
   "outputs": [],
   "source": []
  }
 ],
 "metadata": {
  "celltoolbar": "Tags",
  "kernelspec": {
   "display_name": "Python 3 (ipykernel)",
   "language": "python",
   "name": "python3"
  },
  "language_info": {
   "codemirror_mode": {
    "name": "ipython",
    "version": 3
   },
   "file_extension": ".py",
   "mimetype": "text/x-python",
   "name": "python",
   "nbconvert_exporter": "python",
   "pygments_lexer": "ipython3",
   "version": "3.9.12"
  },
  "toc": {
   "base_numbering": 1,
   "nav_menu": {},
   "number_sections": true,
   "sideBar": true,
   "skip_h1_title": false,
   "title_cell": "Table of Contents",
   "title_sidebar": "Contents",
   "toc_cell": false,
   "toc_position": {},
   "toc_section_display": true,
   "toc_window_display": false
  },
  "toc-autonumbering": false,
  "toc-showcode": false,
  "toc-showmarkdowntxt": false,
  "toc-showtags": false
 },
 "nbformat": 4,
 "nbformat_minor": 4
}
