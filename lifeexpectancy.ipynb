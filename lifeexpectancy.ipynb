{
 "cells": [
  {
   "cell_type": "markdown",
   "metadata": {
    "tags": []
   },
   "source": [
    "# <center> GLOBAL LIFE EXPECTANCY - A DATA STORY\n",
    "\n",
    "<a href=\"https://www.shutterstock.com/search/life+stages\">\n",
    "  <img align=\"right\" width=\"450\" height=\"300\" src=\"https://image.shutterstock.com/image-vector/life-cycle-aging-process-vector-260nw-1417053860.jpg\">\n",
    "  \n",
    "\n",
    "\n",
    "\n",
    "    \n",
    "    \n",
    "    \n",
    "\n",
    ">**Project Owner:** Swintabel Agyei<br>\n",
    ">**Email:** swintabel95@gmail.com<br>\n",
    ">[**Github Profile** ](https://github.com/Swintabel) | [**LinkedIn Profile**](https://www.linkedin.com/in/swintabelagyei/)|\n",
    "**Data Source:** [Kaggle](https://www.kaggle.com/datasets/augustus0498/life-expectancy-who)<br>\n",
    "> Presentation on Tableau\n",
    "    \n",
    "The Global Health Observatory (GHO) data repository under World Health Organization (WHO) keeps track of the health status as well as many other related factors for all countries. The datasets are made available to public for the purpose of health data analysis. The dataset related to life expectancy, health factors and socio-economic status for 193 countries has been collected from the same WHO data repository website and its corresponding economic data was collected from United Nation website. The data spans through 2000 to 2015.\n",
    "    \n",
    "\n",
    "\n",
    "\n",
    "    \n",
    "    \n"
   ]
  },
  {
   "cell_type": "markdown",
   "metadata": {},
   "source": [
    "\n",
    "\n"
   ]
  },
  {
   "cell_type": "markdown",
   "metadata": {
    "tags": []
   },
   "source": [
    "## **INTRODUCTION**"
   ]
  },
  {
   "cell_type": "markdown",
   "metadata": {
    "tags": []
   },
   "source": [
    "### BACKGROUND\n",
    "Life expectancy is a hypothetical measure of the average number of years a person is expected to live given some common factors affecting the individual at a particular year or time. The most common type of this measure is 'Life Expectancy at birth', the average number of years that a newborn could expect to live if he or she were to pass through life exposed to the sex- and age-specific death rates prevailing at the time of his or her birth, for a specific year, in a given country, territory, or geographic area. Generally, past studies suggest that developed countries tend to have a higher life expectancy compared to less developed countries. However, with the introduction of some immunization policies and evolving socio-economic factors over the years, it is important to find empirical evidence to answer questions on the country specific determining factors of life expectancy. [[1]](#ref1)[[2]](#ref2)"
   ]
  },
  {
   "cell_type": "markdown",
   "metadata": {},
   "source": [
    "### OBJECTIVE\n",
    "Given the aforementioned background, this project seeks to investigate the following hypothesis;\n",
    "\n",
    "* Countries with equal development status(developed/developing) have similar life expectancy.\n",
    "* Individual's lifestyle trends in a country affects life expectancy.\n",
    "* Health policies have a strong impact on life expectancy."
   ]
  },
  {
   "cell_type": "markdown",
   "metadata": {},
   "source": [
    "### METHODOLOGY\n",
    "As a data science problem, the relevance of results depends on the quality of the data. Therefore, the data will be taken through some quality assessments and cleaning. Once the data the data is ready, some exploratory analysis will be done with summary statistics and visualizations to provide an overview on the patterns in the data. Where necessary further exploration of prevailing relationships will be done. When the exploration process is complete, the data will then go through some pre-processing for modeling. The chart below give a picture of the project steps.\n",
    "\n",
    "<img align=\"center\" width=\"650\" height=\"400\" src=\"https://dz2cdn1.dzone.com/storage/temp/13513518-datascience-problem-solving.png\">\n",
    "\n",
    "\n",
    ">Fig2.  unlocking the potential of Better Data Science workflow. [Big Data Zone](https://dzone.com/articles/how-to-manage-a-data-science-project-for-successfu)\n",
    "\n",
    "\n",
    "\n",
    "\n",
    "`Please note that this section of the project will focus more on the story of life expectancy through the data while the necessary data wrangling and cleaning process will be carried out in the` **DataQA.ipynb file**"
   ]
  },
  {
   "cell_type": "markdown",
   "metadata": {},
   "source": []
  },
  {
   "cell_type": "markdown",
   "metadata": {},
   "source": []
  },
  {
   "cell_type": "code",
   "execution_count": null,
   "metadata": {},
   "outputs": [],
   "source": []
  },
  {
   "cell_type": "code",
   "execution_count": null,
   "metadata": {},
   "outputs": [],
   "source": []
  },
  {
   "cell_type": "code",
   "execution_count": null,
   "metadata": {},
   "outputs": [],
   "source": []
  },
  {
   "cell_type": "code",
   "execution_count": 6,
   "metadata": {
    "tags": [
     "hide_code"
    ]
   },
   "outputs": [],
   "source": [
    "\n",
    "#%%html\n",
    "#<div class='tableauPlaceholder' id='viz1654590640012' style='position: relative'><noscript><a href='#'><img alt='HAPPINESS IN THE WORLD ' src='https:&#47;&#47;public.tableau.com&#47;static&#47;images&#47;WO&#47;WORLDSHAPPINESS&#47;WORLDSHAPPINESS&#47;1_rss.png' style='border: none' /></a></noscript><object class='tableauViz'  style='display:none;'><param name='host_url' value='https%3A%2F%2Fpublic.tableau.com%2F' /> <param name='embed_code_version' value='3' /> <param name='site_root' value='' /><param name='name' value='WORLDSHAPPINESS&#47;WORLDSHAPPINESS' /><param name='tabs' value='no' /><param name='toolbar' value='yes' /><param name='static_image' value='https:&#47;&#47;public.tableau.com&#47;static&#47;images&#47;WO&#47;WORLDSHAPPINESS&#47;WORLDSHAPPINESS&#47;1.png' /> <param name='animate_transition' value='yes' /><param name='display_static_image' value='yes' /><param name='display_spinner' value='yes' /><param name='display_overlay' value='yes' /><param name='display_count' value='yes' /><param name='language' value='en-US' /></object></div>                <script type='text/javascript'>                    var divElement = document.getElementById('viz1654590640012');                    var vizElement = divElement.getElementsByTagName('object')[0];                    if ( divElement.offsetWidth > 800 ) { vizElement.style.width='1150px';vizElement.style.height='627px';} else if ( divElement.offsetWidth > 500 ) { vizElement.style.width='1150px';vizElement.style.height='627px';} else { vizElement.style.width='100%';vizElement.style.height='1577px';}                     var scriptElement = document.createElement('script');                    scriptElement.src = 'https://public.tableau.com/javascripts/api/viz_v1.js';                    vizElement.parentNode.insertBefore(scriptElement, vizElement);                </script>"
   ]
  },
  {
   "cell_type": "markdown",
   "metadata": {},
   "source": [
    "`1`\n",
    "[Bezy, Judith Marie. \"life expectancy\". Encyclopedia Britannica, 11 Nov. 2021, https://www.britannica.com/science/life-expectancy. Accessed 18 May 2022.]<a id='ref1'></a>"
   ]
  },
  {
   "cell_type": "markdown",
   "metadata": {},
   "source": [
    "`2`[WHO. \"Life expectancy at birth (years)\". Indicator Metadata Registry List, https://www.who.int/data/gho/indicator-metadata-registry/imr-details/65. Accessed 18 May 2022.]<a id='ref2'></a>"
   ]
  },
  {
   "cell_type": "code",
   "execution_count": null,
   "metadata": {
    "tags": []
   },
   "outputs": [],
   "source": []
  }
 ],
 "metadata": {
  "celltoolbar": "Tags",
  "kernelspec": {
   "display_name": "Python 3 (ipykernel)",
   "language": "python",
   "name": "python3"
  },
  "language_info": {
   "codemirror_mode": {
    "name": "ipython",
    "version": 3
   },
   "file_extension": ".py",
   "mimetype": "text/x-python",
   "name": "python",
   "nbconvert_exporter": "python",
   "pygments_lexer": "ipython3",
   "version": "3.9.12"
  },
  "toc": {
   "base_numbering": 1,
   "nav_menu": {},
   "number_sections": true,
   "sideBar": true,
   "skip_h1_title": false,
   "title_cell": "Table of Contents",
   "title_sidebar": "Contents",
   "toc_cell": false,
   "toc_position": {},
   "toc_section_display": true,
   "toc_window_display": false
  },
  "toc-autonumbering": false,
  "toc-showcode": false,
  "toc-showmarkdowntxt": false,
  "toc-showtags": false
 },
 "nbformat": 4,
 "nbformat_minor": 4
}
